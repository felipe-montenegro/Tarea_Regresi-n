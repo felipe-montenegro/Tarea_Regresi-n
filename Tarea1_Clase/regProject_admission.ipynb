{
 "cells": [
  {
   "attachments": {},
   "cell_type": "markdown",
   "metadata": {},
   "source": [
    "# Tarea1 - Proyecto de Aprendizaje Supervisado\n",
    "## Maestría en Ciencia de Datos - Gestión Estratégica\n",
    "- Daniel Martinez\n",
    "- Felipe Montenegro\n",
    "- Alejandra Ruiz\n",
    "- Juan Vergara"
   ]
  },
  {
   "attachments": {},
   "cell_type": "markdown",
   "metadata": {},
   "source": [
    "## 1. Librerías básicas a utilizar\n",
    "\n",
    "- Pandas: para el análisis de datos a través de dataframes (data tabular)\n",
    "- Numpy: para todo lo relacionado con manipulación de arreglos y análisis numérico\n",
    "- Seaborn y matplotlib.pyplot: para visualización de datos"
   ]
  },
  {
   "cell_type": "code",
   "execution_count": 1,
   "metadata": {},
   "outputs": [],
   "source": [
    "# Importar librerías\n",
    "\n",
    "# Manejo de analísis de datos a través de dataframes (data tabular)\n",
    "import pandas as pd\n",
    "# Manipulación de arreglos y análisis numérico\n",
    "import numpy as np\n",
    "# Visualización de datos\n",
    "import seaborn as sns\n",
    "# Visualización de datos\n",
    "import matplotlib.pyplot as plt\n",
    "%matplotlib inline\n",
    "\n",
    "# Librería para el manejo de expresiones regulares\n",
    "import re\n",
    "\n",
    "import warnings\n",
    "warnings.filterwarnings(\"ignore\")"
   ]
  },
  {
   "attachments": {},
   "cell_type": "markdown",
   "metadata": {},
   "source": [
    "## 2. Lectura de los datos\n",
    "\n",
    "- El primer paso es la Lectura del archivo csv a un dataframe de pandas\n",
    "- Se trata de una tarea de regresión ya que la variable objetivo es la esperanza de vida (tipo continua)\n"
   ]
  },
  {
   "cell_type": "code",
   "execution_count": 2,
   "metadata": {},
   "outputs": [
    {
     "data": {
      "text/html": [
       "<div>\n",
       "<style scoped>\n",
       "    .dataframe tbody tr th:only-of-type {\n",
       "        vertical-align: middle;\n",
       "    }\n",
       "\n",
       "    .dataframe tbody tr th {\n",
       "        vertical-align: top;\n",
       "    }\n",
       "\n",
       "    .dataframe thead th {\n",
       "        text-align: right;\n",
       "    }\n",
       "</style>\n",
       "<table border=\"1\" class=\"dataframe\">\n",
       "  <thead>\n",
       "    <tr style=\"text-align: right;\">\n",
       "      <th></th>\n",
       "      <th>GRE_Score</th>\n",
       "      <th>TOEFL_Score</th>\n",
       "      <th>University_Rating</th>\n",
       "      <th>SOP</th>\n",
       "      <th>LOR</th>\n",
       "      <th>CGPA</th>\n",
       "      <th>Research</th>\n",
       "      <th>Chance_of_Admission</th>\n",
       "    </tr>\n",
       "  </thead>\n",
       "  <tbody>\n",
       "    <tr>\n",
       "      <th>0</th>\n",
       "      <td>337</td>\n",
       "      <td>118</td>\n",
       "      <td>4</td>\n",
       "      <td>4.5</td>\n",
       "      <td>4.5</td>\n",
       "      <td>9.65</td>\n",
       "      <td>1</td>\n",
       "      <td>0.92</td>\n",
       "    </tr>\n",
       "    <tr>\n",
       "      <th>1</th>\n",
       "      <td>324</td>\n",
       "      <td>107</td>\n",
       "      <td>4</td>\n",
       "      <td>4.0</td>\n",
       "      <td>4.5</td>\n",
       "      <td>8.87</td>\n",
       "      <td>1</td>\n",
       "      <td>0.76</td>\n",
       "    </tr>\n",
       "    <tr>\n",
       "      <th>2</th>\n",
       "      <td>316</td>\n",
       "      <td>104</td>\n",
       "      <td>3</td>\n",
       "      <td>3.0</td>\n",
       "      <td>3.5</td>\n",
       "      <td>8.00</td>\n",
       "      <td>1</td>\n",
       "      <td>0.72</td>\n",
       "    </tr>\n",
       "    <tr>\n",
       "      <th>3</th>\n",
       "      <td>322</td>\n",
       "      <td>110</td>\n",
       "      <td>3</td>\n",
       "      <td>3.5</td>\n",
       "      <td>2.5</td>\n",
       "      <td>8.67</td>\n",
       "      <td>1</td>\n",
       "      <td>0.80</td>\n",
       "    </tr>\n",
       "    <tr>\n",
       "      <th>4</th>\n",
       "      <td>314</td>\n",
       "      <td>103</td>\n",
       "      <td>2</td>\n",
       "      <td>2.0</td>\n",
       "      <td>3.0</td>\n",
       "      <td>8.21</td>\n",
       "      <td>0</td>\n",
       "      <td>0.65</td>\n",
       "    </tr>\n",
       "    <tr>\n",
       "      <th>...</th>\n",
       "      <td>...</td>\n",
       "      <td>...</td>\n",
       "      <td>...</td>\n",
       "      <td>...</td>\n",
       "      <td>...</td>\n",
       "      <td>...</td>\n",
       "      <td>...</td>\n",
       "      <td>...</td>\n",
       "    </tr>\n",
       "    <tr>\n",
       "      <th>995</th>\n",
       "      <td>332</td>\n",
       "      <td>108</td>\n",
       "      <td>5</td>\n",
       "      <td>4.5</td>\n",
       "      <td>4.0</td>\n",
       "      <td>9.02</td>\n",
       "      <td>1</td>\n",
       "      <td>0.87</td>\n",
       "    </tr>\n",
       "    <tr>\n",
       "      <th>996</th>\n",
       "      <td>337</td>\n",
       "      <td>117</td>\n",
       "      <td>5</td>\n",
       "      <td>5.0</td>\n",
       "      <td>5.0</td>\n",
       "      <td>9.87</td>\n",
       "      <td>1</td>\n",
       "      <td>0.96</td>\n",
       "    </tr>\n",
       "    <tr>\n",
       "      <th>997</th>\n",
       "      <td>330</td>\n",
       "      <td>120</td>\n",
       "      <td>5</td>\n",
       "      <td>4.5</td>\n",
       "      <td>5.0</td>\n",
       "      <td>9.56</td>\n",
       "      <td>1</td>\n",
       "      <td>0.93</td>\n",
       "    </tr>\n",
       "    <tr>\n",
       "      <th>998</th>\n",
       "      <td>312</td>\n",
       "      <td>103</td>\n",
       "      <td>4</td>\n",
       "      <td>4.0</td>\n",
       "      <td>5.0</td>\n",
       "      <td>8.43</td>\n",
       "      <td>0</td>\n",
       "      <td>0.73</td>\n",
       "    </tr>\n",
       "    <tr>\n",
       "      <th>999</th>\n",
       "      <td>327</td>\n",
       "      <td>113</td>\n",
       "      <td>4</td>\n",
       "      <td>4.5</td>\n",
       "      <td>4.5</td>\n",
       "      <td>9.04</td>\n",
       "      <td>0</td>\n",
       "      <td>0.84</td>\n",
       "    </tr>\n",
       "  </tbody>\n",
       "</table>\n",
       "<p>1000 rows × 8 columns</p>\n",
       "</div>"
      ],
      "text/plain": [
       "     GRE_Score  TOEFL_Score  University_Rating  SOP  LOR  CGPA  Research  \\\n",
       "0          337          118                  4  4.5  4.5  9.65         1   \n",
       "1          324          107                  4  4.0  4.5  8.87         1   \n",
       "2          316          104                  3  3.0  3.5  8.00         1   \n",
       "3          322          110                  3  3.5  2.5  8.67         1   \n",
       "4          314          103                  2  2.0  3.0  8.21         0   \n",
       "..         ...          ...                ...  ...  ...   ...       ...   \n",
       "995        332          108                  5  4.5  4.0  9.02         1   \n",
       "996        337          117                  5  5.0  5.0  9.87         1   \n",
       "997        330          120                  5  4.5  5.0  9.56         1   \n",
       "998        312          103                  4  4.0  5.0  8.43         0   \n",
       "999        327          113                  4  4.5  4.5  9.04         0   \n",
       "\n",
       "     Chance_of_Admission  \n",
       "0                   0.92  \n",
       "1                   0.76  \n",
       "2                   0.72  \n",
       "3                   0.80  \n",
       "4                   0.65  \n",
       "..                   ...  \n",
       "995                 0.87  \n",
       "996                 0.96  \n",
       "997                 0.93  \n",
       "998                 0.73  \n",
       "999                 0.84  \n",
       "\n",
       "[1000 rows x 8 columns]"
      ]
     },
     "execution_count": 2,
     "metadata": {},
     "output_type": "execute_result"
    }
   ],
   "source": [
    "\n",
    "df = pd.read_csv('university_admission.csv')\n",
    "df"
   ]
  },
  {
   "cell_type": "code",
   "execution_count": 3,
   "metadata": {},
   "outputs": [
    {
     "name": "stdout",
     "output_type": "stream",
     "text": [
      "[4 3 2 5 1]\n",
      "[1 0]\n",
      "[4.5 4.  3.  3.5 2.  5.  1.5 1.  2.5]\n",
      "[4.5 3.5 2.5 3.  4.  1.5 2.  5.  1. ]\n"
     ]
    }
   ],
   "source": [
    "print(df[\"University_Rating\"].unique())\n",
    "print(df[\"Research\"].unique())\n",
    "print(df[\"SOP\"].unique())\n",
    "print(df[\"LOR\"].unique())\n"
   ]
  },
  {
   "cell_type": "markdown",
   "metadata": {},
   "source": [
    "Al hacer el llamado al dataframe, podemos dar un primer vistazo al conjunto de datos. "
   ]
  },
  {
   "attachments": {},
   "cell_type": "markdown",
   "metadata": {},
   "source": [
    "## 3. Análisis Exploratorio de Datos\n",
    "\n",
    "- Limpieza de datos\n",
    "- Exploración de datos\n",
    "- Ingeniería de datos"
   ]
  },
  {
   "cell_type": "markdown",
   "metadata": {},
   "source": [
    "### 3.1. Limpieza de datos\n",
    "\n",
    "Para realizar una apropiada limpieza de datos se deben entender cada una de las variables presentes dentro del conjunto de datos.\n",
    "\n",
    "Elementos a tener en cuenta:\n",
    "- El significado y tipo (e.g. nominal/ordinal/intervalo/ratio) de cada una de las variables\n",
    "- Identificación de valores faltantes y en caso de haberlos plantear las opciones para tratarlos\n",
    "- Presencia de datos atípicos y en caso de haberlos identificar la manera de tratarlos\n"
   ]
  },
  {
   "cell_type": "code",
   "execution_count": 4,
   "metadata": {},
   "outputs": [
    {
     "data": {
      "text/plain": [
       "Index(['GRE_Score', 'TOEFL_Score', 'University_Rating', 'SOP', 'LOR', 'CGPA',\n",
       "       'Research', 'Chance_of_Admission'],\n",
       "      dtype='object')"
      ]
     },
     "execution_count": 4,
     "metadata": {},
     "output_type": "execute_result"
    }
   ],
   "source": [
    "df.columns"
   ]
  },
  {
   "cell_type": "markdown",
   "metadata": {},
   "source": [
    "**Descripciones de variables**\n",
    "\n",
    "| Columna | Descripción | Tipo | Rango / No. Categorías |\n",
    "|:-----:|:-----:|:-----:|:-----:|\n",
    "| GRE_Score | Puntaje del GRE | Cuantitativa Discreta | Rango: [290 - 340] |\n",
    "| TOEFL_Score | Puntaje del TOEFL |Cuantitativa Discreta | Rango: [92 - 120] |\n",
    "| University_Rating | Calificación de la Universidad | Cualitativa Ordinal | Categorías: 5 |\n",
    "| SOP | Statement of Purpose | Cuantitativa Continua | Rango: [1.0 - 5.0] |\n",
    "| LOR | Carta de Recomendación | Cuantitativa Continua | Rango: [1.0 - 5.0] |\n",
    "| CGPA | Promedio Acumulado  | Cuantitativa Continua | Rango: [6.8 - 9.92]|\n",
    "| Research | Investiga| Binaria | [1 y 0] |\n",
    "| Chance_of_Admission | Posibilidad de admisión | Cuantiativa Continua | Rango: [0.34 - 0.97]  |"
   ]
  },
  {
   "cell_type": "markdown",
   "metadata": {},
   "source": [
    "### Valores faltantes\n",
    "\n",
    "- Detección de valores faltantes\n",
    "- Manejo de valores faltantes\n",
    "\n",
    "### ¿Qué podemos hacer con estos?\n",
    "\n",
    "- Identificar valores faltantes (no necesariamente representados por null)\n",
    "- Imputarlos\n",
    "- Eliminarlos (registros o columnas)"
   ]
  },
  {
   "cell_type": "code",
   "execution_count": 5,
   "metadata": {},
   "outputs": [
    {
     "name": "stdout",
     "output_type": "stream",
     "text": [
      "<class 'pandas.core.frame.DataFrame'>\n",
      "RangeIndex: 1000 entries, 0 to 999\n",
      "Data columns (total 8 columns):\n",
      " #   Column               Non-Null Count  Dtype  \n",
      "---  ------               --------------  -----  \n",
      " 0   GRE_Score            1000 non-null   int64  \n",
      " 1   TOEFL_Score          1000 non-null   int64  \n",
      " 2   University_Rating    1000 non-null   int64  \n",
      " 3   SOP                  1000 non-null   float64\n",
      " 4   LOR                  1000 non-null   float64\n",
      " 5   CGPA                 1000 non-null   float64\n",
      " 6   Research             1000 non-null   int64  \n",
      " 7   Chance_of_Admission  1000 non-null   float64\n",
      "dtypes: float64(4), int64(4)\n",
      "memory usage: 62.6 KB\n"
     ]
    }
   ],
   "source": [
    "df.info()"
   ]
  },
  {
   "cell_type": "code",
   "execution_count": 6,
   "metadata": {},
   "outputs": [
    {
     "data": {
      "text/plain": [
       "GRE_Score              0\n",
       "TOEFL_Score            0\n",
       "University_Rating      0\n",
       "SOP                    0\n",
       "LOR                    0\n",
       "CGPA                   0\n",
       "Research               0\n",
       "Chance_of_Admission    0\n",
       "dtype: int64"
      ]
     },
     "execution_count": 6,
     "metadata": {},
     "output_type": "execute_result"
    }
   ],
   "source": [
    "df.isnull().sum()"
   ]
  },
  {
   "cell_type": "code",
   "execution_count": 7,
   "metadata": {},
   "outputs": [
    {
     "data": {
      "image/png": "[encoded data removed]",
      "text/plain": [
       "<Figure size 1000x600 with 1 Axes>"
      ]
     },
     "metadata": {},
     "output_type": "display_data"
    }
   ],
   "source": [
    "# Para revisar datos faltantes podemos dibujar un mapa de calor\n",
    "# Nos permite encontrar la ubicación de dichos datos faltantes\n",
    "\n",
    "plt.figure(figsize=(10,6))\n",
    "sns.heatmap(df.isnull(), yticklabels = False, cbar = False, cmap=\"Blues\")\n",
    "plt.show()"
   ]
  },
  {
   "cell_type": "markdown",
   "metadata": {},
   "source": [
    "**Interpretación:** \n",
    "\n",
    "A través de la identificación anterior, se encontró que para este dataset en  particular no se encontraron valores nulos. "
   ]
  },
  {
   "cell_type": "code",
   "execution_count": 8,
   "metadata": {},
   "outputs": [
    {
     "data": {
      "text/html": [
       "<div>\n",
       "<style scoped>\n",
       "    .dataframe tbody tr th:only-of-type {\n",
       "        vertical-align: middle;\n",
       "    }\n",
       "\n",
       "    .dataframe tbody tr th {\n",
       "        vertical-align: top;\n",
       "    }\n",
       "\n",
       "    .dataframe thead th {\n",
       "        text-align: right;\n",
       "    }\n",
       "</style>\n",
       "<table border=\"1\" class=\"dataframe\">\n",
       "  <thead>\n",
       "    <tr style=\"text-align: right;\">\n",
       "      <th></th>\n",
       "      <th>GRE_Score</th>\n",
       "      <th>TOEFL_Score</th>\n",
       "      <th>University_Rating</th>\n",
       "      <th>SOP</th>\n",
       "      <th>LOR</th>\n",
       "      <th>CGPA</th>\n",
       "      <th>Research</th>\n",
       "      <th>Chance_of_Admission</th>\n",
       "    </tr>\n",
       "  </thead>\n",
       "  <tbody>\n",
       "    <tr>\n",
       "      <th>count</th>\n",
       "      <td>1000.000000</td>\n",
       "      <td>1000.000000</td>\n",
       "      <td>1000.000000</td>\n",
       "      <td>1000.000000</td>\n",
       "      <td>1000.000000</td>\n",
       "      <td>1000.00000</td>\n",
       "      <td>1000.000000</td>\n",
       "      <td>1000.00000</td>\n",
       "    </tr>\n",
       "    <tr>\n",
       "      <th>mean</th>\n",
       "      <td>316.472000</td>\n",
       "      <td>107.193000</td>\n",
       "      <td>3.114000</td>\n",
       "      <td>3.374000</td>\n",
       "      <td>3.484000</td>\n",
       "      <td>8.57644</td>\n",
       "      <td>0.560000</td>\n",
       "      <td>0.72174</td>\n",
       "    </tr>\n",
       "    <tr>\n",
       "      <th>std</th>\n",
       "      <td>11.289494</td>\n",
       "      <td>6.079368</td>\n",
       "      <td>1.142939</td>\n",
       "      <td>0.990507</td>\n",
       "      <td>0.924986</td>\n",
       "      <td>0.60451</td>\n",
       "      <td>0.496635</td>\n",
       "      <td>0.14107</td>\n",
       "    </tr>\n",
       "    <tr>\n",
       "      <th>min</th>\n",
       "      <td>290.000000</td>\n",
       "      <td>92.000000</td>\n",
       "      <td>1.000000</td>\n",
       "      <td>1.000000</td>\n",
       "      <td>1.000000</td>\n",
       "      <td>6.80000</td>\n",
       "      <td>0.000000</td>\n",
       "      <td>0.34000</td>\n",
       "    </tr>\n",
       "    <tr>\n",
       "      <th>25%</th>\n",
       "      <td>308.000000</td>\n",
       "      <td>103.000000</td>\n",
       "      <td>2.000000</td>\n",
       "      <td>2.500000</td>\n",
       "      <td>3.000000</td>\n",
       "      <td>8.12750</td>\n",
       "      <td>0.000000</td>\n",
       "      <td>0.63000</td>\n",
       "    </tr>\n",
       "    <tr>\n",
       "      <th>50%</th>\n",
       "      <td>317.000000</td>\n",
       "      <td>107.000000</td>\n",
       "      <td>3.000000</td>\n",
       "      <td>3.500000</td>\n",
       "      <td>3.500000</td>\n",
       "      <td>8.56000</td>\n",
       "      <td>1.000000</td>\n",
       "      <td>0.72000</td>\n",
       "    </tr>\n",
       "    <tr>\n",
       "      <th>75%</th>\n",
       "      <td>325.000000</td>\n",
       "      <td>112.000000</td>\n",
       "      <td>4.000000</td>\n",
       "      <td>4.000000</td>\n",
       "      <td>4.000000</td>\n",
       "      <td>9.04000</td>\n",
       "      <td>1.000000</td>\n",
       "      <td>0.82000</td>\n",
       "    </tr>\n",
       "    <tr>\n",
       "      <th>max</th>\n",
       "      <td>340.000000</td>\n",
       "      <td>120.000000</td>\n",
       "      <td>5.000000</td>\n",
       "      <td>5.000000</td>\n",
       "      <td>5.000000</td>\n",
       "      <td>9.92000</td>\n",
       "      <td>1.000000</td>\n",
       "      <td>0.97000</td>\n",
       "    </tr>\n",
       "  </tbody>\n",
       "</table>\n",
       "</div>"
      ],
      "text/plain": [
       "         GRE_Score  TOEFL_Score  University_Rating          SOP          LOR  \\\n",
       "count  1000.000000  1000.000000        1000.000000  1000.000000  1000.000000   \n",
       "mean    316.472000   107.193000           3.114000     3.374000     3.484000   \n",
       "std      11.289494     6.079368           1.142939     0.990507     0.924986   \n",
       "min     290.000000    92.000000           1.000000     1.000000     1.000000   \n",
       "25%     308.000000   103.000000           2.000000     2.500000     3.000000   \n",
       "50%     317.000000   107.000000           3.000000     3.500000     3.500000   \n",
       "75%     325.000000   112.000000           4.000000     4.000000     4.000000   \n",
       "max     340.000000   120.000000           5.000000     5.000000     5.000000   \n",
       "\n",
       "             CGPA     Research  Chance_of_Admission  \n",
       "count  1000.00000  1000.000000           1000.00000  \n",
       "mean      8.57644     0.560000              0.72174  \n",
       "std       0.60451     0.496635              0.14107  \n",
       "min       6.80000     0.000000              0.34000  \n",
       "25%       8.12750     0.000000              0.63000  \n",
       "50%       8.56000     1.000000              0.72000  \n",
       "75%       9.04000     1.000000              0.82000  \n",
       "max       9.92000     1.000000              0.97000  "
      ]
     },
     "execution_count": 8,
     "metadata": {},
     "output_type": "execute_result"
    }
   ],
   "source": [
    "df.describe()"
   ]
  },
  {
   "cell_type": "markdown",
   "metadata": {},
   "source": [
    "Interpretación: \n",
    "\n",
    "Se resaltan algunos hallazgos con las principales características de los datos. \n",
    "\n",
    "- Research: se evidencia que en promedio, el 56% de los aspirantes cuenta con experiencia en investigación. \n",
    "\n",
    "- TOEFL_Score: El 75% de los aspirantes obtuvo un puntaje de 112 puntos en el TOEFL o menos. \n",
    "\n",
    "- Las puntuaciones del GRE, se encuentran entre 290 y 340 puntos. Dicho eso, se observa que los solicitantes exhiben puntuaciones relativamente altas, pues la mayoría de las puntuaciones están entre 308 y 325 puntos."
   ]
  },
  {
   "cell_type": "code",
   "execution_count": 9,
   "metadata": {},
   "outputs": [
    {
     "data": {
      "image/png": "[encoded data removed]",
      "text/plain": [
       "<Figure size 1500x1000 with 8 Axes>"
      ]
     },
     "metadata": {},
     "output_type": "display_data"
    }
   ],
   "source": [
    "# Utilizamos diagramas de cajas y bigotes para verificar las variables que parecieron no tener sentido\n",
    "plt.figure(figsize=(15,10))\n",
    "for i, col in enumerate(df.columns, start=1):\n",
    "    plt.subplot(2, 4, i)\n",
    "    df.boxplot(col)"
   ]
  },
  {
   "cell_type": "markdown",
   "metadata": {},
   "source": [
    "Interpretación:\n",
    "\n",
    "A partir del gráfico anterior, podemos inferir existe la presencia de datos atípicos en las variables LOR y Chance_of_Admission. Sin embargo, teniendo en cuenta el contexto de la información, existe la posibilidad de que un aspirante no cuente con una calificación destacada de su carta de recomendación o evidencia una posibilidad baja de admisión. Por tanto, no se consideran estos puntos como datos atípicos. "
   ]
  },
  {
   "cell_type": "code",
   "execution_count": 10,
   "metadata": {},
   "outputs": [
    {
     "name": "stdout",
     "output_type": "stream",
     "text": [
      "     GRE_Score  TOEFL_Score  University_Rating  SOP  LOR  CGPA  Research  \\\n",
      "347        299           94                  1  1.0  1.0  7.34         0   \n",
      "847        299           94                  1  1.0  1.0  7.34         0   \n",
      "\n",
      "     Chance_of_Admission  \n",
      "347                 0.42  \n",
      "847                 0.42  \n"
     ]
    }
   ],
   "source": [
    "print(df[df[\"LOR\"] == 1.0])\n"
   ]
  },
  {
   "cell_type": "code",
   "execution_count": 11,
   "metadata": {},
   "outputs": [
    {
     "name": "stdout",
     "output_type": "stream",
     "text": [
      "     GRE_Score  TOEFL_Score  University_Rating  SOP  LOR  CGPA  Research  \\\n",
      "92         298           98                  2  4.0  3.0  8.03         0   \n",
      "376        297           96                  2  2.5  2.0  7.43         0   \n",
      "592        298           98                  2  4.0  3.0  8.03         0   \n",
      "876        297           96                  2  2.5  2.0  7.43         0   \n",
      "\n",
      "     Chance_of_Admission  \n",
      "92                  0.34  \n",
      "376                 0.34  \n",
      "592                 0.34  \n",
      "876                 0.34  \n"
     ]
    }
   ],
   "source": [
    "print(df[df[\"Chance_of_Admission\"] == 0.34])"
   ]
  },
  {
   "cell_type": "markdown",
   "metadata": {},
   "source": [
    "Interpretación: \n",
    "\n",
    "Se encontraron solo 2 registros con valores mínimos de calificación para la carta de recomendación y solo 4 registros que evidencian las posibilidades o puntuacioens más bajas de admisión. "
   ]
  },
  {
   "cell_type": "markdown",
   "metadata": {},
   "source": [
    "Los pasos correspondientes al tratamiento de datos nulos no serán usados, debido a que no hay presencia de los mismos en nuestro dataset."
   ]
  },
  {
   "cell_type": "code",
   "execution_count": null,
   "metadata": {},
   "outputs": [],
   "source": [
    "'''# Creamos un Transformer personalizado que nos convierte a nulos los datos erróneos\n",
    "class Nullify_variables(BaseEstimator, TransformerMixin):\n",
    "    def fit(self, X, y=None):\n",
    "        return self\n",
    "\n",
    "    def transform(self, X, y=None):\n",
    "        result = X.copy()\n",
    "        mort_5_percentile = np.percentile(df.iloc[:,4].dropna(), 5)\n",
    "        result.iloc[:,4] = result.apply(lambda x: np.nan if x.adult_mortality < mort_5_percentile else x.adult_mortality, axis=1)\n",
    "        result.infant_deaths = result.infant_deaths.replace(0, np.nan)\n",
    "        result.bmi = result.apply(lambda x: np.nan if (x.bmi < 10 or x.bmi > 50) else x.bmi, axis=1)\n",
    "        result['under-five_deaths'] = result['under-five_deaths'].replace(0, np.nan)\n",
    "        return result'''"
   ]
  },
  {
   "cell_type": "code",
   "execution_count": null,
   "metadata": {},
   "outputs": [],
   "source": [
    "'''df_nulls = Nullify_variables().fit_transform(df_renamed)'''"
   ]
  },
  {
   "cell_type": "code",
   "execution_count": null,
   "metadata": {},
   "outputs": [],
   "source": [
    "'''df_nulls.info()'''"
   ]
  },
  {
   "cell_type": "code",
   "execution_count": null,
   "metadata": {},
   "outputs": [],
   "source": [
    "'''# Nos da un análisis pormenorizado de las variables con valores nulos explícitos\n",
    "def nulls_breakdown(df):\n",
    "    df_cols = list(df.columns)\n",
    "    cols_total_count = len(list(df.columns))\n",
    "    cols_count = 0\n",
    "    for loc, col in enumerate(df_cols):\n",
    "        null_count = df[col].isnull().sum()\n",
    "        total_count = df[col].isnull().count()\n",
    "        percent_null = round(null_count/total_count*100, 2)\n",
    "        if null_count > 0:\n",
    "            cols_count += 1\n",
    "            print('[iloc = {}] {} has {} null values: {}% null'.format(loc, col, null_count, percent_null))\n",
    "    cols_percent_null = round(cols_count/cols_total_count*100, 2)\n",
    "    print('Out of {} total columns, {} contain null values; {}% columns contain null values.'.format(cols_total_count, cols_count, cols_percent_null))'''"
   ]
  },
  {
   "cell_type": "code",
   "execution_count": null,
   "metadata": {},
   "outputs": [],
   "source": [
    "'''nulls_breakdown(df_nulls)'''"
   ]
  },
  {
   "cell_type": "code",
   "execution_count": null,
   "metadata": {},
   "outputs": [],
   "source": [
    "'''# Creamos un Transformer personalizado que nos elimina valores nulos\n",
    "# Eliminamos los registros con valores faltantes en la variable objetivo\n",
    "# Eliminamos la columna BMI\n",
    "# Las otras columnas con valores faltantes las imputamos con la media por año\n",
    "class Remove_null_values_mean(BaseEstimator, TransformerMixin):\n",
    "    def fit(self, X, y=None):\n",
    "        return self\n",
    "\n",
    "    def transform(self, X, y=None):\n",
    "        result = X.copy()\n",
    "        result = result.drop(columns='bmi')\n",
    "        imputed_data = []\n",
    "        for year in list(result.year.unique()):\n",
    "            year_data = result[result.year == year].copy()\n",
    "            for col in list(year_data.columns)[3:]:\n",
    "                year_data[col] = year_data[col].fillna(year_data[col].dropna().mean()).copy()\n",
    "            imputed_data.append(year_data)\n",
    "        result = pd.concat(imputed_data).copy()\n",
    "        return result'''"
   ]
  },
  {
   "cell_type": "code",
   "execution_count": null,
   "metadata": {},
   "outputs": [],
   "source": [
    "'''df_non_nulls_mean = Remove_null_values_mean().fit_transform(df_nulls)'''"
   ]
  },
  {
   "cell_type": "code",
   "execution_count": null,
   "metadata": {},
   "outputs": [],
   "source": [
    "'''nulls_breakdown(df_non_nulls_mean)'''"
   ]
  },
  {
   "cell_type": "code",
   "execution_count": null,
   "metadata": {},
   "outputs": [],
   "source": [
    "'''df_non_nulls_mean.info()'''"
   ]
  },
  {
   "cell_type": "code",
   "execution_count": 12,
   "metadata": {},
   "outputs": [
    {
     "data": {
      "image/png": "[encoded data removed]",
      "text/plain": [
       "<Figure size 1000x600 with 1 Axes>"
      ]
     },
     "metadata": {},
     "output_type": "display_data"
    }
   ],
   "source": [
    "# Para revisar datos faltantes podemos dibujar un mapa de calor\n",
    "# Nos permite encontrar la ubicación de dichos datos faltantes\n",
    "\n",
    "plt.figure(figsize=(10,6))\n",
    "sns.heatmap(df.isnull(), yticklabels = False, cbar = False, cmap=\"Blues\")\n",
    "plt.show()"
   ]
  },
  {
   "cell_type": "markdown",
   "metadata": {},
   "source": [
    "No hay datos faltantes en este caso, por tanto no se utilizará las funciones que utilizan el método de KNN para imputación de datos faltantes."
   ]
  },
  {
   "cell_type": "code",
   "execution_count": null,
   "metadata": {},
   "outputs": [],
   "source": [
    "'''# Construimos una función que nos permite obtener el X y el y para el dataframe de Admissions\n",
    "\n",
    "def obtain_X_y(df):\n",
    "    return df.drop(columns=['']),df[['']]\n",
    "\n",
    "# Segunda aproximación: utilizar knn para imputar los datos faltantes\n",
    "# Utilizamos KNNImputer para completar los datos faltantes\n",
    "# Para optimizar debemos encontrar el mejor k\n",
    "\n",
    "from sklearn.impute import KNNImputer \n",
    "from sklearn.model_selection import train_test_split\n",
    "from sklearn.ensemble import RandomForestRegressor\n",
    "from sklearn.metrics import r2_score, mean_squared_error \n",
    "\n",
    "def optimize_k(df):\n",
    "    result = df.copy()\n",
    "    errors = []\n",
    "    result = result.drop(columns='bmi')\n",
    "    numeric_vars = result.select_dtypes('number').columns\n",
    "    for k in range(1, 20, 2):\n",
    "        imputer = KNNImputer(n_neighbors=k)\n",
    "        imputed = imputer.fit_transform(result[numeric_vars])\n",
    "        df_imputed = pd.DataFrame(imputed, columns=numeric_vars)\n",
    "        \n",
    "        X,y = obtain_X_y(df_imputed)\n",
    "        X_train, X_test, y_train, y_test = train_test_split(X, y, test_size=0.3, random_state=1234)\n",
    "\n",
    "        model = RandomForestRegressor(random_state=1234)\n",
    "        model.fit(X_train, y_train)\n",
    "        preds = model.predict(X_test)\n",
    "        error = np.sqrt(mean_squared_error(y_test, preds))\n",
    "        errors.append({'K': k, 'RMSE': error, 'R^2': r2_score(y_test,preds)})\n",
    "        \n",
    "    return errors\n",
    "\n",
    "errors = optimize_k(df_nulls)\n",
    "print(errors)'''"
   ]
  },
  {
   "cell_type": "code",
   "execution_count": null,
   "metadata": {},
   "outputs": [],
   "source": [
    "'''# Gráfica para encontrar el mejor k teniendo en cuenta el RMSE\n",
    " \n",
    "ax = sns.lineplot(x=[errors[i]['K'] for i in range(len(errors))],y=[errors[i]['RMSE'] for i in range(len(errors))])\n",
    "ax.set(title='RMSE vs K neighbors',xlim=(1,21),xlabel='K neighbors', ylabel='RMSE')\n",
    "plt.show()'''"
   ]
  },
  {
   "cell_type": "code",
   "execution_count": null,
   "metadata": {},
   "outputs": [],
   "source": [
    "'''# Gráfica para encontrar el mejor k teniendo en cuenta el R^2\n",
    "\n",
    "ax = sns.lineplot(x=[errors[i]['K'] for i in range(len(errors))],y=[errors[i]['R^2'] for i in range(len(errors))])\n",
    "ax.set(title='R^2 vs K neighbors',xlim=(1,21),xlabel='K neighbors', ylabel='R^2')\n",
    "plt.show()'''"
   ]
  },
  {
   "cell_type": "markdown",
   "metadata": {},
   "source": [
    "Ordenamos los resultados con base al mejor R^2 y el mejor RMSE"
   ]
  },
  {
   "cell_type": "code",
   "execution_count": null,
   "metadata": {},
   "outputs": [],
   "source": [
    "'''# Verificamos el mejor K teniendo en cuenta el R^2 y el RMSE\n",
    "res1 = sorted(errors,key=lambda x: x['R^2'],reverse=False)[0]\n",
    "res2 = sorted(errors,key=lambda x: x['R^2'],reverse=True)[0]\n",
    "print('K =',res1['K'],' R^2 = ',res1['R^2'],' RMSE = ',res1['RMSE'])\n",
    "print('K =',res2['K'],' RMSE = ',res2['RMSE'],' R^2 = ',res2['R^2'])'''"
   ]
  },
  {
   "cell_type": "code",
   "execution_count": null,
   "metadata": {},
   "outputs": [],
   "source": [
    "'''# Luego de reconocer a k=19 como el mejor número de vecinos más cercanos, \n",
    "# podemos imputar nuestros datos faltantes\n",
    "\n",
    "# Creamos un Transformer personalizado para imputar con KNN\n",
    "class KnnImputer(BaseEstimator, TransformerMixin):\n",
    "    def __init__(self, k):\n",
    "        self.k = k\n",
    "        \n",
    "    def fit(self, X, y=None):\n",
    "        return self\n",
    "\n",
    "    def transform(self, X, y=None):\n",
    "        result = X.copy()\n",
    "        result = result.drop(columns='bmi')\n",
    "        numeric_vars = result.select_dtypes('number').columns\n",
    "        imputed = KNNImputer(n_neighbors=self.k).fit_transform(result[numeric_vars])\n",
    "        df_imputed = pd.DataFrame(imputed, columns=numeric_vars)\n",
    "        for col in X.select_dtypes('object'):\n",
    "            df_imputed[col] = X[col]\n",
    "        return df_imputed'''\n"
   ]
  },
  {
   "cell_type": "code",
   "execution_count": null,
   "metadata": {},
   "outputs": [],
   "source": [
    "'''df_imputed_knn = KnnImputer(19).fit_transform(df_nulls)\n",
    "df_imputed_knn'''"
   ]
  },
  {
   "cell_type": "markdown",
   "metadata": {},
   "source": [
    "### Valores atípicos\n",
    "Visualizamos utilizando\n",
    "- Diagramas de cajas y bigotes\n",
    "- Histogramas"
   ]
  },
  {
   "cell_type": "code",
   "execution_count": 13,
   "metadata": {},
   "outputs": [],
   "source": [
    "# Función para graficar los valores continuos del dataframe\n",
    "def outliers_visual(data):\n",
    "    cont_vars = list(data.select_dtypes('number').columns)\n",
    "    plt.figure(figsize=(15, 40))\n",
    "    i = 0\n",
    "    val = int(len(cont_vars)/2) + 1\n",
    "    for col in cont_vars:\n",
    "        i += 1\n",
    "        plt.subplot(val, 4, i)\n",
    "        plt.boxplot(data[col])\n",
    "        plt.title('{} boxplot'.format(col))\n",
    "        i += 1\n",
    "        plt.subplot(val, 4, i)\n",
    "        plt.hist(data[col])\n",
    "        plt.title('{} histogram'.format(col))\n",
    "        \n",
    "    plt.show()"
   ]
  },
  {
   "cell_type": "code",
   "execution_count": 14,
   "metadata": {},
   "outputs": [
    {
     "data": {
      "image/png": "[encoded data removed]",
      "text/plain": [
       "<Figure size 1500x4000 with 16 Axes>"
      ]
     },
     "metadata": {},
     "output_type": "display_data"
    }
   ],
   "source": [
    "outliers_visual(df)"
   ]
  },
  {
   "cell_type": "markdown",
   "metadata": {},
   "source": [
    "Como se mencionó anteriormente, teniendo en cuenta el contexto de la información, los datos atípicos no serán eliminados. Debido a que es normal, que algunos aspirantes exhiban un desempeño menos destacado en algunas de las características que promueven su admisión o su no admisión. \n",
    "\n",
    "Para efectos académicos, revisaremos la manera estadística de corrobararlos usando el método Tukey (se consideran como datos atípicos aquellos que están 1.5 veces por fuera del rango intercuartil)."
   ]
  },
  {
   "cell_type": "code",
   "execution_count": 15,
   "metadata": {},
   "outputs": [],
   "source": [
    "# Función para calcular los datos atípicos utilizando el método de Tukey\n",
    "def outlier_count(col, data):\n",
    "    print(15*'-' + col + 15*'-')\n",
    "    q75, q25 = np.percentile(data[col], [75, 25])\n",
    "    iqr = q75 - q25\n",
    "    min_val = q25 - (iqr*1.5)\n",
    "    max_val = q75 + (iqr*1.5)\n",
    "    outlier_count = len(np.where((data[col] > max_val) | (data[col] < min_val))[0])\n",
    "    outlier_percent = round(outlier_count/len(data[col])*100, 2)\n",
    "    print('Number of outliers: {}'.format(outlier_count))\n",
    "    print('Percent of data that is outlier: {}%'.format(outlier_percent))\n",
    "    return outlier_count"
   ]
  },
  {
   "cell_type": "code",
   "execution_count": 16,
   "metadata": {},
   "outputs": [
    {
     "name": "stdout",
     "output_type": "stream",
     "text": [
      "---------------GRE_Score---------------\n",
      "Number of outliers: 0\n",
      "Percent of data that is outlier: 0.0%\n",
      "---------------TOEFL_Score---------------\n",
      "Number of outliers: 0\n",
      "Percent of data that is outlier: 0.0%\n",
      "---------------University_Rating---------------\n",
      "Number of outliers: 0\n",
      "Percent of data that is outlier: 0.0%\n",
      "---------------SOP---------------\n",
      "Number of outliers: 0\n",
      "Percent of data that is outlier: 0.0%\n",
      "---------------LOR---------------\n",
      "Number of outliers: 2\n",
      "Percent of data that is outlier: 0.2%\n",
      "---------------CGPA---------------\n",
      "Number of outliers: 0\n",
      "Percent of data that is outlier: 0.0%\n",
      "---------------Research---------------\n",
      "Number of outliers: 0\n",
      "Percent of data that is outlier: 0.0%\n",
      "---------------Chance_of_Admission---------------\n",
      "Number of outliers: 4\n",
      "Percent of data that is outlier: 0.4%\n"
     ]
    }
   ],
   "source": [
    "# Guardar las columnas de tipo continuas con datos atípicos\n",
    "cont_vars = []\n",
    "for col in list(df.select_dtypes('number').columns):\n",
    "    if outlier_count(col, df) > 0:\n",
    "        cont_vars.append(col)"
   ]
  },
  {
   "cell_type": "markdown",
   "metadata": {},
   "source": [
    "¿Qué hacer con tantos datos atípicos?\n",
    "Existen varias opciones a considerar\n",
    "- Eliminarlos (mejor evitar esta opción para mantener la mayor cantidad de información posible) - No se eliminarán\n",
    "- Limitar los límites inferiores y superiores (winzorize) \n",
    "- Transformación de los datos (normalización)\n"
   ]
  },
  {
   "cell_type": "markdown",
   "metadata": {},
   "source": [
    "Teniendo en cuenta los gráficos previos y los estadísticos, se puede ver que existen cantidades diferentes de outliers para cada variable y hacia diferentes direcciones. Es por esto que en este caso la mejor decisión es limitar a través de winsorizing"
   ]
  },
  {
   "cell_type": "code",
   "execution_count": 17,
   "metadata": {},
   "outputs": [],
   "source": [
    "from scipy.stats.mstats import winsorize\n",
    "\n",
    "wins_dict = {}\n",
    "\n",
    "def test_wins(col, df, wins_dict, lower_limit=0, upper_limit=0, show_plot=True):\n",
    "    wins_data = winsorize(df[col], limits=(lower_limit, upper_limit))\n",
    "    wins_dict[col] = wins_data\n",
    "    if show_plot == True:\n",
    "        plt.figure(figsize=(15,5))\n",
    "        plt.subplot(121)\n",
    "        plt.boxplot(df[col])\n",
    "        plt.title('original {}'.format(col))\n",
    "        plt.subplot(122)\n",
    "        plt.boxplot(wins_data)\n",
    "        plt.title('wins=({},{}) {}'.format(lower_limit, upper_limit, col))\n",
    "        plt.show()\n",
    "    return wins_dict"
   ]
  },
  {
   "cell_type": "code",
   "execution_count": 18,
   "metadata": {},
   "outputs": [
    {
     "data": {
      "text/plain": [
       "['LOR', 'Chance_of_Admission']"
      ]
     },
     "execution_count": 18,
     "metadata": {},
     "output_type": "execute_result"
    }
   ],
   "source": [
    "cont_vars"
   ]
  },
  {
   "cell_type": "code",
   "execution_count": 19,
   "metadata": {},
   "outputs": [
    {
     "data": {
      "image/png": "[encoded data removed]",
      "text/plain": [
       "<Figure size 1500x500 with 2 Axes>"
      ]
     },
     "metadata": {},
     "output_type": "display_data"
    },
    {
     "data": {
      "image/png": "[encoded data removed]",
      "text/plain": [
       "<Figure size 1500x500 with 2 Axes>"
      ]
     },
     "metadata": {},
     "output_type": "display_data"
    }
   ],
   "source": [
    "# Verificación de la winsorizing\n",
    "wins_dict = {}\n",
    "wins_dict = test_wins(cont_vars[0], df, wins_dict, lower_limit=.01, show_plot=True)\n",
    "wins_dict = test_wins(cont_vars[1], df, wins_dict, lower_limit=.34, show_plot=True)\n",
    "\n",
    "\n",
    "\n"
   ]
  },
  {
   "cell_type": "markdown",
   "metadata": {},
   "source": [
    "A través de los diagramas de cajas y bigotes se puede detallar como se logra mitigar el impacto de los outliers para cada una de las variables."
   ]
  },
  {
   "cell_type": "code",
   "execution_count": 20,
   "metadata": {},
   "outputs": [
    {
     "name": "stdout",
     "output_type": "stream",
     "text": [
      "Defaulting to user installation because normal site-packages is not writeable\n",
      "Requirement already satisfied: scikit-learn in c:\\users\\monte\\appdata\\roaming\\python\\python311\\site-packages (1.5.0)\n",
      "Requirement already satisfied: numpy>=1.19.5 in c:\\programdata\\anaconda3\\lib\\site-packages (from scikit-learn) (1.26.4)\n",
      "Requirement already satisfied: scipy>=1.6.0 in c:\\programdata\\anaconda3\\lib\\site-packages (from scikit-learn) (1.11.4)\n",
      "Requirement already satisfied: joblib>=1.2.0 in c:\\programdata\\anaconda3\\lib\\site-packages (from scikit-learn) (1.2.0)\n",
      "Requirement already satisfied: threadpoolctl>=3.1.0 in c:\\users\\monte\\appdata\\roaming\\python\\python311\\site-packages (from scikit-learn) (3.5.0)\n",
      "Note: you may need to restart the kernel to use updated packages.\n"
     ]
    }
   ],
   "source": [
    "pip install scikit-learn\n"
   ]
  },
  {
   "cell_type": "code",
   "execution_count": 21,
   "metadata": {},
   "outputs": [],
   "source": [
    "# Creamos un Transformer personalizado para limitar los outliers con el winsorizing\n",
    "\n",
    "\n",
    "from sklearn.base import BaseEstimator, TransformerMixin\n",
    "\n",
    "class Winsorizer(BaseEstimator, TransformerMixin):\n",
    "    def __init__(self, wins, cont_vars):\n",
    "        self.wins = wins\n",
    "        self.cont_vars = cont_vars\n",
    "        \n",
    "    def fit(self, X, y=None):\n",
    "        return self\n",
    "\n",
    "    def transform(self, X, y=None):\n",
    "        wins_df =pd.DataFrame(index = X.index)\n",
    "        for col in ['LOR', 'Chance_of_Admission']:\n",
    "            wins_df[col] = X[col]\n",
    "        for col in self.cont_vars:\n",
    "                wins_df[col] = self.wins[col]     \n",
    "        return wins_df"
   ]
  },
  {
   "cell_type": "code",
   "execution_count": 22,
   "metadata": {},
   "outputs": [
    {
     "name": "stdout",
     "output_type": "stream",
     "text": [
      "<class 'pandas.core.frame.DataFrame'>\n",
      "RangeIndex: 1000 entries, 0 to 999\n",
      "Data columns (total 2 columns):\n",
      " #   Column               Non-Null Count  Dtype  \n",
      "---  ------               --------------  -----  \n",
      " 0   LOR                  1000 non-null   float64\n",
      " 1   Chance_of_Admission  1000 non-null   float64\n",
      "dtypes: float64(2)\n",
      "memory usage: 15.8 KB\n"
     ]
    }
   ],
   "source": [
    "df_wins_mean = Winsorizer(wins_dict,cont_vars).fit_transform(df)\n",
    "df_wins_mean.info()"
   ]
  },
  {
   "cell_type": "code",
   "execution_count": 23,
   "metadata": {},
   "outputs": [
    {
     "data": {
      "image/png": "[encoded data removed]",
      "text/plain": [
       "<Figure size 1500x4000 with 4 Axes>"
      ]
     },
     "metadata": {},
     "output_type": "display_data"
    }
   ],
   "source": [
    "outliers_visual(df_wins_mean)"
   ]
  },
  {
   "cell_type": "code",
   "execution_count": 24,
   "metadata": {},
   "outputs": [
    {
     "name": "stdout",
     "output_type": "stream",
     "text": [
      "---------------LOR---------------\n",
      "Number of outliers: 0\n",
      "Percent of data that is outlier: 0.0%\n",
      "---------------Chance_of_Admission---------------\n",
      "Number of outliers: 0\n",
      "Percent of data that is outlier: 0.0%\n"
     ]
    }
   ],
   "source": [
    "# Guardar las columnas de tipo continuas con datos atípicos\n",
    "cont_vars1 = []\n",
    "for col in list(df_wins_mean.select_dtypes('number').columns):\n",
    "    if outlier_count(col, df_wins_mean) > 0:\n",
    "        cont_vars1.append(col)"
   ]
  },
  {
   "cell_type": "markdown",
   "metadata": {},
   "source": [
    "### 3.2. Exploración de datos\n",
    "- Análisis univariado\n",
    "    - Variables continuas\n",
    "    - Variables categóricas\n",
    "- Análisis Bivariado\n",
    "    - Variables continuas comparadas con variable objetivo y entre sí\n",
    "    - Variables categóricas con respecto a variable objetivo"
   ]
  },
  {
   "cell_type": "markdown",
   "metadata": {},
   "source": [
    "### Análisis univariado\n",
    "\n",
    "La idea con este este análisis es ver cada variable por sí sola. Generalmente se realiza con la ayuda de histogramas para variables continuas y countplots o barplot para datos categóricos. Además de incluir los reportes estadísticos que no deben faltar."
   ]
  },
  {
   "cell_type": "markdown",
   "metadata": {},
   "source": [
    "Vamos a revisar primero el dataframe con los datos imputados con la media"
   ]
  },
  {
   "cell_type": "code",
   "execution_count": 25,
   "metadata": {},
   "outputs": [],
   "source": [
    "df['University_Rating'] = df['University_Rating'].astype('category')"
   ]
  },
  {
   "cell_type": "code",
   "execution_count": 26,
   "metadata": {},
   "outputs": [
    {
     "data": {
      "text/html": [
       "<div>\n",
       "<style scoped>\n",
       "    .dataframe tbody tr th:only-of-type {\n",
       "        vertical-align: middle;\n",
       "    }\n",
       "\n",
       "    .dataframe tbody tr th {\n",
       "        vertical-align: top;\n",
       "    }\n",
       "\n",
       "    .dataframe thead th {\n",
       "        text-align: right;\n",
       "    }\n",
       "</style>\n",
       "<table border=\"1\" class=\"dataframe\">\n",
       "  <thead>\n",
       "    <tr style=\"text-align: right;\">\n",
       "      <th></th>\n",
       "      <th>GRE_Score</th>\n",
       "      <th>TOEFL_Score</th>\n",
       "      <th>SOP</th>\n",
       "      <th>LOR</th>\n",
       "      <th>CGPA</th>\n",
       "      <th>Research</th>\n",
       "      <th>Chance_of_Admission</th>\n",
       "    </tr>\n",
       "  </thead>\n",
       "  <tbody>\n",
       "    <tr>\n",
       "      <th>count</th>\n",
       "      <td>1000.000000</td>\n",
       "      <td>1000.000000</td>\n",
       "      <td>1000.000000</td>\n",
       "      <td>1000.000000</td>\n",
       "      <td>1000.00000</td>\n",
       "      <td>1000.000000</td>\n",
       "      <td>1000.00000</td>\n",
       "    </tr>\n",
       "    <tr>\n",
       "      <th>mean</th>\n",
       "      <td>316.472000</td>\n",
       "      <td>107.193000</td>\n",
       "      <td>3.374000</td>\n",
       "      <td>3.484000</td>\n",
       "      <td>8.57644</td>\n",
       "      <td>0.560000</td>\n",
       "      <td>0.72174</td>\n",
       "    </tr>\n",
       "    <tr>\n",
       "      <th>std</th>\n",
       "      <td>11.289494</td>\n",
       "      <td>6.079368</td>\n",
       "      <td>0.990507</td>\n",
       "      <td>0.924986</td>\n",
       "      <td>0.60451</td>\n",
       "      <td>0.496635</td>\n",
       "      <td>0.14107</td>\n",
       "    </tr>\n",
       "    <tr>\n",
       "      <th>min</th>\n",
       "      <td>290.000000</td>\n",
       "      <td>92.000000</td>\n",
       "      <td>1.000000</td>\n",
       "      <td>1.000000</td>\n",
       "      <td>6.80000</td>\n",
       "      <td>0.000000</td>\n",
       "      <td>0.34000</td>\n",
       "    </tr>\n",
       "    <tr>\n",
       "      <th>25%</th>\n",
       "      <td>308.000000</td>\n",
       "      <td>103.000000</td>\n",
       "      <td>2.500000</td>\n",
       "      <td>3.000000</td>\n",
       "      <td>8.12750</td>\n",
       "      <td>0.000000</td>\n",
       "      <td>0.63000</td>\n",
       "    </tr>\n",
       "    <tr>\n",
       "      <th>50%</th>\n",
       "      <td>317.000000</td>\n",
       "      <td>107.000000</td>\n",
       "      <td>3.500000</td>\n",
       "      <td>3.500000</td>\n",
       "      <td>8.56000</td>\n",
       "      <td>1.000000</td>\n",
       "      <td>0.72000</td>\n",
       "    </tr>\n",
       "    <tr>\n",
       "      <th>75%</th>\n",
       "      <td>325.000000</td>\n",
       "      <td>112.000000</td>\n",
       "      <td>4.000000</td>\n",
       "      <td>4.000000</td>\n",
       "      <td>9.04000</td>\n",
       "      <td>1.000000</td>\n",
       "      <td>0.82000</td>\n",
       "    </tr>\n",
       "    <tr>\n",
       "      <th>max</th>\n",
       "      <td>340.000000</td>\n",
       "      <td>120.000000</td>\n",
       "      <td>5.000000</td>\n",
       "      <td>5.000000</td>\n",
       "      <td>9.92000</td>\n",
       "      <td>1.000000</td>\n",
       "      <td>0.97000</td>\n",
       "    </tr>\n",
       "  </tbody>\n",
       "</table>\n",
       "</div>"
      ],
      "text/plain": [
       "         GRE_Score  TOEFL_Score          SOP          LOR        CGPA  \\\n",
       "count  1000.000000  1000.000000  1000.000000  1000.000000  1000.00000   \n",
       "mean    316.472000   107.193000     3.374000     3.484000     8.57644   \n",
       "std      11.289494     6.079368     0.990507     0.924986     0.60451   \n",
       "min     290.000000    92.000000     1.000000     1.000000     6.80000   \n",
       "25%     308.000000   103.000000     2.500000     3.000000     8.12750   \n",
       "50%     317.000000   107.000000     3.500000     3.500000     8.56000   \n",
       "75%     325.000000   112.000000     4.000000     4.000000     9.04000   \n",
       "max     340.000000   120.000000     5.000000     5.000000     9.92000   \n",
       "\n",
       "          Research  Chance_of_Admission  \n",
       "count  1000.000000           1000.00000  \n",
       "mean      0.560000              0.72174  \n",
       "std       0.496635              0.14107  \n",
       "min       0.000000              0.34000  \n",
       "25%       0.000000              0.63000  \n",
       "50%       1.000000              0.72000  \n",
       "75%       1.000000              0.82000  \n",
       "max       1.000000              0.97000  "
      ]
     },
     "execution_count": 26,
     "metadata": {},
     "output_type": "execute_result"
    }
   ],
   "source": [
    "# Descriptores estadísticos para valores continuos\n",
    "df.describe()"
   ]
  },
  {
   "cell_type": "code",
   "execution_count": 27,
   "metadata": {},
   "outputs": [],
   "source": [
    "# Función para visualizar las distribuciones de las variables continuas\n",
    "def visualize_distributions(df):\n",
    "    cols = df.select_dtypes('number').columns\n",
    "    val = int(len(cols)/2)+1\n",
    "    plt.figure(figsize=(15, 40))\n",
    "    for i, col in enumerate(cols, 1):\n",
    "        plt.subplot(val, 4, i)\n",
    "        plt.hist(df[col])\n",
    "        plt.title(col)"
   ]
  },
  {
   "cell_type": "code",
   "execution_count": 28,
   "metadata": {},
   "outputs": [
    {
     "data": {
      "image/png": "[encoded data removed]",
      "text/plain": [
       "<Figure size 1500x4000 with 7 Axes>"
      ]
     },
     "metadata": {},
     "output_type": "display_data"
    }
   ],
   "source": [
    "# Visualizamos la distribución de las variables continuas\n",
    "visualize_distributions(df)"
   ]
  },
  {
   "cell_type": "code",
   "execution_count": 33,
   "metadata": {},
   "outputs": [],
   "source": [
    "# Función para visualizar registros por experiencia en investigación\n",
    "def visualize_rows_by_research(df):\n",
    "    plt.figure(figsize=(10, 10))\n",
    "    df.Research.value_counts(ascending=True).plot(kind='barh')\n",
    "    plt.title('Count of Rows by Resarch')\n",
    "    plt.xlabel('Count of Rows')\n",
    "    plt.ylabel('Research Experience')\n",
    "    plt.tight_layout()\n",
    "    plt.show()"
   ]
  },
  {
   "cell_type": "code",
   "execution_count": 34,
   "metadata": {},
   "outputs": [
    {
     "data": {
      "image/png": "[encoded data removed]",
      "text/plain": [
       "<Figure size 1000x1000 with 1 Axes>"
      ]
     },
     "metadata": {},
     "output_type": "display_data"
    }
   ],
   "source": [
    "visualize_rows_by_research(df)"
   ]
  },
  {
   "cell_type": "markdown",
   "metadata": {},
   "source": [
    "Aunque no resulta una gráfica muy amigable, se puede observar que la gran mayoría de países tienen 16 registros (16 años). Podemos notar que los países no están sobrerepresentados."
   ]
  },
  {
   "cell_type": "code",
   "execution_count": 35,
   "metadata": {},
   "outputs": [],
   "source": [
    "# Función para visualizar registros según calificación de la universidad\n",
    "def visualize_rows_by_university_rating(df):\n",
    "    df.University_Rating.value_counts().sort_index().plot(kind='barh')\n",
    "    plt.title('Count of Rows by University Rating')\n",
    "    plt.xlabel('Count of Rows')\n",
    "    plt.ylabel('University Rating')\n",
    "    plt.show()"
   ]
  },
  {
   "cell_type": "code",
   "execution_count": 36,
   "metadata": {},
   "outputs": [
    {
     "data": {
      "image/png": "[encoded data removed]",
      "text/plain": [
       "<Figure size 640x480 with 1 Axes>"
      ]
     },
     "metadata": {},
     "output_type": "display_data"
    }
   ],
   "source": [
    "visualize_rows_by_university_rating(df)"
   ]
  },
  {
   "cell_type": "markdown",
   "metadata": {},
   "source": [
    "Interpretación: \n",
    "\n",
    "Teniendo en cuenta el último gráfico, se encontró que la mayoría de los aplicantes se encuentran realizando procesos de admisión a universidades con calificación correspondiente a 3 puntos, seguido de aquellas que tienen calificación 2. Por su parte, se destaca que la mayoría de los estudiantes que están realizando procesos de admisión a las universidades exhibe o demuestra experiencia en investigación. "
   ]
  },
  {
   "cell_type": "code",
   "execution_count": 46,
   "metadata": {},
   "outputs": [],
   "source": [
    "def visualize_university_rating(df):\n",
    "    plt.figure(figsize=(10, 5))\n",
    "    plt.subplot(121)\n",
    "    df.University_Rating.value_counts().plot(kind='bar')\n",
    "    plt.title('Count of Rows by University Rating')\n",
    "    plt.xlabel('University Rating')\n",
    "    plt.ylabel('Count of Rows')\n",
    "    plt.xticks(rotation=0)\n",
    "\n",
    "    plt.subplot(122)\n",
    "    df.University_Rating.value_counts().plot(kind='pie', autopct='%.2f')\n",
    "    plt.ylabel('')\n",
    "    plt.title('University Rating Pie Chart')\n",
    "\n",
    "    plt.show()"
   ]
  },
  {
   "cell_type": "code",
   "execution_count": 47,
   "metadata": {},
   "outputs": [
    {
     "data": {
      "image/png": "[encoded data removed]",
      "text/plain": [
       "<Figure size 1000x500 with 2 Axes>"
      ]
     },
     "metadata": {},
     "output_type": "display_data"
    }
   ],
   "source": [
    "visualize_university_rating(df)"
   ]
  },
  {
   "cell_type": "markdown",
   "metadata": {},
   "source": [
    "### Análisis Bivariado\n",
    "Aspectos de relevancia a tener en cuenta:\n",
    "- Variables continuas con respecto a Chance of Admission (independientes vs dependiente) y entre ellas\n",
    "- Variables categóricas con respecto a Chance of Admission (independientes vs dependiente)\n",
    "- Variables categóricas con respecto a continuas (Caso de Research vs las demás)"
   ]
  },
  {
   "cell_type": "code",
   "execution_count": 52,
   "metadata": {},
   "outputs": [],
   "source": [
    "df[\"Research\"]=df[\"Research\"].astype('category')"
   ]
  },
  {
   "cell_type": "code",
   "execution_count": 53,
   "metadata": {},
   "outputs": [
    {
     "data": {
      "text/html": [
       "<div>\n",
       "<style scoped>\n",
       "    .dataframe tbody tr th:only-of-type {\n",
       "        vertical-align: middle;\n",
       "    }\n",
       "\n",
       "    .dataframe tbody tr th {\n",
       "        vertical-align: top;\n",
       "    }\n",
       "\n",
       "    .dataframe thead th {\n",
       "        text-align: right;\n",
       "    }\n",
       "</style>\n",
       "<table border=\"1\" class=\"dataframe\">\n",
       "  <thead>\n",
       "    <tr style=\"text-align: right;\">\n",
       "      <th></th>\n",
       "      <th>GRE_Score</th>\n",
       "      <th>TOEFL_Score</th>\n",
       "      <th>SOP</th>\n",
       "      <th>LOR</th>\n",
       "      <th>CGPA</th>\n",
       "      <th>Chance_of_Admission</th>\n",
       "    </tr>\n",
       "  </thead>\n",
       "  <tbody>\n",
       "    <tr>\n",
       "      <th>GRE_Score</th>\n",
       "      <td>1.000000</td>\n",
       "      <td>0.827076</td>\n",
       "      <td>0.613498</td>\n",
       "      <td>0.524679</td>\n",
       "      <td>0.825878</td>\n",
       "      <td>0.810351</td>\n",
       "    </tr>\n",
       "    <tr>\n",
       "      <th>TOEFL_Score</th>\n",
       "      <td>0.827076</td>\n",
       "      <td>1.000000</td>\n",
       "      <td>0.644374</td>\n",
       "      <td>0.541340</td>\n",
       "      <td>0.810644</td>\n",
       "      <td>0.791921</td>\n",
       "    </tr>\n",
       "    <tr>\n",
       "      <th>SOP</th>\n",
       "      <td>0.613498</td>\n",
       "      <td>0.644374</td>\n",
       "      <td>1.000000</td>\n",
       "      <td>0.663707</td>\n",
       "      <td>0.712154</td>\n",
       "      <td>0.684137</td>\n",
       "    </tr>\n",
       "    <tr>\n",
       "      <th>LOR</th>\n",
       "      <td>0.524679</td>\n",
       "      <td>0.541340</td>\n",
       "      <td>0.663707</td>\n",
       "      <td>1.000000</td>\n",
       "      <td>0.637469</td>\n",
       "      <td>0.645365</td>\n",
       "    </tr>\n",
       "    <tr>\n",
       "      <th>CGPA</th>\n",
       "      <td>0.825878</td>\n",
       "      <td>0.810644</td>\n",
       "      <td>0.712154</td>\n",
       "      <td>0.637469</td>\n",
       "      <td>1.000000</td>\n",
       "      <td>0.882413</td>\n",
       "    </tr>\n",
       "    <tr>\n",
       "      <th>Chance_of_Admission</th>\n",
       "      <td>0.810351</td>\n",
       "      <td>0.791921</td>\n",
       "      <td>0.684137</td>\n",
       "      <td>0.645365</td>\n",
       "      <td>0.882413</td>\n",
       "      <td>1.000000</td>\n",
       "    </tr>\n",
       "  </tbody>\n",
       "</table>\n",
       "</div>"
      ],
      "text/plain": [
       "                     GRE_Score  TOEFL_Score       SOP       LOR      CGPA  \\\n",
       "GRE_Score             1.000000     0.827076  0.613498  0.524679  0.825878   \n",
       "TOEFL_Score           0.827076     1.000000  0.644374  0.541340  0.810644   \n",
       "SOP                   0.613498     0.644374  1.000000  0.663707  0.712154   \n",
       "LOR                   0.524679     0.541340  0.663707  1.000000  0.637469   \n",
       "CGPA                  0.825878     0.810644  0.712154  0.637469  1.000000   \n",
       "Chance_of_Admission   0.810351     0.791921  0.684137  0.645365  0.882413   \n",
       "\n",
       "                     Chance_of_Admission  \n",
       "GRE_Score                       0.810351  \n",
       "TOEFL_Score                     0.791921  \n",
       "SOP                             0.684137  \n",
       "LOR                             0.645365  \n",
       "CGPA                            0.882413  \n",
       "Chance_of_Admission             1.000000  "
      ]
     },
     "execution_count": 53,
     "metadata": {},
     "output_type": "execute_result"
    }
   ],
   "source": [
    "# Matriz de correlación entre variables continuas\n",
    "df[df.select_dtypes('number').columns].corr()"
   ]
  },
  {
   "cell_type": "code",
   "execution_count": 62,
   "metadata": {},
   "outputs": [],
   "source": [
    "def correlation_matrix(df,y=True):\n",
    "    if y:\n",
    "        cont_vars = list(df.drop(['Research'],axis=1).select_dtypes('number').columns)\n",
    "    else:\n",
    "        cont_vars = list(df.select_dtypes('number').columns)\n",
    "    mask = np.triu(df[cont_vars].corr())\n",
    "    plt.figure(figsize=(15,15))\n",
    "    sns.heatmap(df[cont_vars].corr(), annot=True, fmt='.2g', vmin=-1, vmax=1, center=0, cmap='coolwarm', mask=mask)\n",
    "    plt.ylim(0.5, len(cont_vars) + 0.5)\n",
    "    plt.title('Correlation Matrix Heatmap')\n",
    "    plt.show()"
   ]
  },
  {
   "cell_type": "code",
   "execution_count": 63,
   "metadata": {},
   "outputs": [
    {
     "data": {
      "image/png": "[encoded data removed]",
      "text/plain": [
       "<Figure size 1500x1500 with 2 Axes>"
      ]
     },
     "metadata": {},
     "output_type": "display_data"
    }
   ],
   "source": [
    "correlation_matrix(df)"
   ]
  },
  {
   "cell_type": "markdown",
   "metadata": {},
   "source": [
    "Interpretación: \n",
    "\n",
    "- Se encontró una fuerte correlación entre GRE_SCORE y TOEFL_SCORE. También entre GRE_SCORE y CGPA. Esto cobra sentido, debido a que evidencia que si a un aspirante le va bien en alguna de las pruebas, eso estaría indicando un buen desempeño en las otras. \n",
    "\n",
    "- Con respecto a la variable objetivo, se encontraron fuertes correlaciones entre la mencionada y GRE_SCORE, TOEFL_SCORE y CGPA.  \n",
    "\n",
    "Se debe evitar variables independientes altamente correlacionadas entre sí. Igualmente, las variables independientes altamente correlacionadas con la variable dependiente pueden resultar más importante a la hora de implementar los modelos\n",
    "\n"
   ]
  },
  {
   "cell_type": "code",
   "execution_count": null,
   "metadata": {},
   "outputs": [],
   "source": [
    "'''def visualize_year_life_expectancy(df):\n",
    "    sns.lineplot(data=df, x='year', y='life_expectancy', marker='o')\n",
    "    plt.title('Life Expectancy by Year')\n",
    "    plt.show()'''"
   ]
  },
  {
   "cell_type": "code",
   "execution_count": null,
   "metadata": {},
   "outputs": [],
   "source": [
    "'''visualize_year_life_expectancy(df_wins_mean)'''"
   ]
  },
  {
   "cell_type": "code",
   "execution_count": null,
   "metadata": {},
   "outputs": [],
   "source": [
    "'''df_wins_mean.year.corr(df_wins_mean.life_expectancy)'''"
   ]
  },
  {
   "cell_type": "code",
   "execution_count": null,
   "metadata": {},
   "outputs": [],
   "source": [
    "'''from scipy import stats\n",
    "\n",
    "def t_testing_years(df):\n",
    "    years = list(df.year.unique())\n",
    "    years.sort()\n",
    "    yearly_le = {}\n",
    "    for year in years:\n",
    "        year_data = df[df.year == year].life_expectancy\n",
    "        yearly_le[year] = year_data\n",
    "    for year in years[:-1]:\n",
    "        print(10*'-' + str(year) + ' to ' + str(year+1) + 10*'-')\n",
    "        print(stats.ttest_ind(yearly_le[year], yearly_le[year+1], equal_var=False))'''"
   ]
  },
  {
   "cell_type": "code",
   "execution_count": null,
   "metadata": {},
   "outputs": [],
   "source": [
    "'''t_testing_years(df_wins_mean)'''"
   ]
  },
  {
   "cell_type": "code",
   "execution_count": null,
   "metadata": {},
   "outputs": [],
   "source": [
    "'''df_wins_mean.groupby('status').life_expectancy.agg(['mean'])'''"
   ]
  },
  {
   "cell_type": "markdown",
   "metadata": {},
   "source": [
    "Analizamos si tener experiencia en investigación influye en la posibilidad de admisión. Para corroborar podemos utilizar un t-test<>"
   ]
  },
  {
   "cell_type": "code",
   "execution_count": 67,
   "metadata": {},
   "outputs": [],
   "source": [
    "from scipy import stats\n",
    "\n",
    "\n",
    "def t_testing_research(df):\n",
    "    research_y = df[df.Research == '1'].Chance_of_Admission\n",
    "    research_n = df[df.Research == '0'].Chance_of_Admission\n",
    "    print(stats.ttest_ind(research_y, research_n, equal_var=False)) "
   ]
  },
  {
   "cell_type": "code",
   "execution_count": 68,
   "metadata": {},
   "outputs": [
    {
     "name": "stdout",
     "output_type": "stream",
     "text": [
      "TtestResult(statistic=nan, pvalue=nan, df=nan)\n"
     ]
    }
   ],
   "source": [
    "t_testing_research(df)"
   ]
  },
  {
   "cell_type": "markdown",
   "metadata": {},
   "source": [
    "A partir del p-value se puede corroborar que las diferencias son muy significativas. Lo cual nos indica que status puede resultar importante para la implementación de futuros modelos."
   ]
  },
  {
   "cell_type": "markdown",
   "metadata": {},
   "source": [
    "### 3.3. Ingeniería de características\n",
    "\n",
    "Vamos a eliminar y/o crear nuevas características que nos resulten útiles para la futura implementación de nuestros modelos"
   ]
  },
  {
   "cell_type": "code",
   "execution_count": null,
   "metadata": {},
   "outputs": [],
   "source": [
    "'''# Creamos un Transformer personalizado para dummificar la variable status y eliminar\n",
    "# las variables year y country\n",
    "class Dummify(BaseEstimator, TransformerMixin):\n",
    "    def fit(self, X, y=None):\n",
    "        return self\n",
    "\n",
    "    def transform(self, X, y=None):\n",
    "        result = X.copy()\n",
    "        result = result.drop(columns=['year','country'])\n",
    "        result = pd.get_dummies(result,columns=['status'],dtype=float)\n",
    "        return result'''"
   ]
  },
  {
   "cell_type": "code",
   "execution_count": null,
   "metadata": {},
   "outputs": [],
   "source": [
    "'''df_wins_mean_dummified = Dummify().fit_transform(df_wins_mean)\n",
    "df_wins_mean_dummified'''"
   ]
  },
  {
   "cell_type": "code",
   "execution_count": null,
   "metadata": {},
   "outputs": [],
   "source": [
    "'''df_wins_knn_dummified = Dummify().fit_transform(df_wins_knn)\n",
    "df_wins_knn_dummified'''"
   ]
  },
  {
   "cell_type": "code",
   "execution_count": null,
   "metadata": {},
   "outputs": [],
   "source": [
    "'''# Creamos un Transformer personalizado para realizar la eliminación de variables\n",
    "# a partir de sus correlaciones\n",
    "#Se eliminan las variables que no están altamente correlacionadas con la variable objetivo\n",
    "#Se eliminan las variables dependientes con alta correlación -> multicolinealidad\n",
    "class Remove_highly_correlated_features(BaseEstimator, TransformerMixin):\n",
    "    def fit(self, X, y=None):\n",
    "        return self\n",
    "\n",
    "    def transform(self, X, y=None):\n",
    "        result = X.copy()\n",
    "        result = result.drop(columns=['infant_deaths', 'percentage_expenditure','polio',\n",
    "                                      'thinness_10-19_years','schooling','status_Developing',\n",
    "                                      'population'])\n",
    "        return result'''"
   ]
  },
  {
   "cell_type": "code",
   "execution_count": null,
   "metadata": {},
   "outputs": [],
   "source": [
    "'''df_wins_mean_dummified_removed = Remove_highly_correlated_features().fit_transform(df_wins_mean_dummified)\n",
    "df_wins_knn_dummified'''"
   ]
  },
  {
   "cell_type": "code",
   "execution_count": null,
   "metadata": {},
   "outputs": [],
   "source": [
    "'''correlation_matrix(df_wins_mean_dummified_removed,False)'''"
   ]
  },
  {
   "cell_type": "markdown",
   "metadata": {},
   "source": [
    "Hacemos uso de un pipeline para dejar listos nuestros dataframes que posteriormente utilizaremos para entrenar nuestros modelos"
   ]
  },
  {
   "cell_type": "code",
   "execution_count": null,
   "metadata": {},
   "outputs": [],
   "source": [
    "#Hay dos pipelines: imputación con la media e imputación con KNN\n",
    "\n",
    "from sklearn.pipeline import Pipeline\n",
    "\n",
    "pipe_mean_rem = Pipeline(steps = [('rename columns',Rename_columns()),\n",
    "                   ('nullify values',Nullify_variables()),\n",
    "                   ('remove null values mean',Remove_null_values_mean()),\n",
    "                   ('winsorize values',Winsorizer(wins_dict,cont_vars)),\n",
    "                   ('Dummify categorical variables',Dummify()),\n",
    "                   ('Remove highly correlated features',Remove_highly_correlated_features())])\n",
    "\n",
    "pipe_knn_rem = Pipeline(steps = [('rename columns',Rename_columns()),\n",
    "                   ('nullify values',Nullify_variables()),\n",
    "                   ('remove null values mean',KnnImputer(19)),\n",
    "                   ('winsorize values',Winsorizer(wins_dict,cont_vars)),\n",
    "                   ('Dummify categorical variables',Dummify()),\n",
    "                   ('Remove highly correlated features',Remove_highly_correlated_features())])\n",
    "\n",
    "\n",
    "df_pipeline_mean_rem = pipe_mean_rem.fit_transform(df)\n",
    "df_pipeline_knn_rem = pipe_knn_rem.fit_transform(df)\n"
   ]
  },
  {
   "attachments": {},
   "cell_type": "markdown",
   "metadata": {},
   "source": [
    "### 4. Protocolos de evaluación"
   ]
  },
  {
   "cell_type": "code",
   "execution_count": 70,
   "metadata": {},
   "outputs": [
    {
     "ename": "NameError",
     "evalue": "name 'obtain_X_y' is not defined",
     "output_type": "error",
     "traceback": [
      "\u001b[1;31m---------------------------------------------------------------------------\u001b[0m",
      "\u001b[1;31mNameError\u001b[0m                                 Traceback (most recent call last)",
      "Cell \u001b[1;32mIn[70], line 16\u001b[0m\n\u001b[0;32m     12\u001b[0m X_test \u001b[38;5;241m=\u001b[39m \u001b[38;5;28mdict\u001b[39m()\n\u001b[0;32m     13\u001b[0m y_test \u001b[38;5;241m=\u001b[39m \u001b[38;5;28mdict\u001b[39m()\n\u001b[1;32m---> 16\u001b[0m X[\u001b[38;5;124m'\u001b[39m\u001b[38;5;124mmean_rem\u001b[39m\u001b[38;5;124m'\u001b[39m], y[\u001b[38;5;124m'\u001b[39m\u001b[38;5;124mmean_rem\u001b[39m\u001b[38;5;124m'\u001b[39m] \u001b[38;5;241m=\u001b[39m obtain_X_y(df_pipeline_mean_rem)\n\u001b[0;32m     18\u001b[0m X_train[\u001b[38;5;124m'\u001b[39m\u001b[38;5;124mmean_rem\u001b[39m\u001b[38;5;124m'\u001b[39m], X_test[\u001b[38;5;124m'\u001b[39m\u001b[38;5;124mmean_rem\u001b[39m\u001b[38;5;124m'\u001b[39m], y_train[\u001b[38;5;124m'\u001b[39m\u001b[38;5;124mmean_rem\u001b[39m\u001b[38;5;124m'\u001b[39m], y_test[\u001b[38;5;124m'\u001b[39m\u001b[38;5;124mmean_rem\u001b[39m\u001b[38;5;124m'\u001b[39m] \u001b[38;5;241m=\u001b[39m train_test_split(X[\u001b[38;5;124m'\u001b[39m\u001b[38;5;124mmean_rem\u001b[39m\u001b[38;5;124m'\u001b[39m],y[\u001b[38;5;124m'\u001b[39m\u001b[38;5;124mmean_rem\u001b[39m\u001b[38;5;124m'\u001b[39m],random_state\u001b[38;5;241m=\u001b[39m\u001b[38;5;241m1234\u001b[39m,test_size\u001b[38;5;241m=\u001b[39m\u001b[38;5;241m0.3\u001b[39m)\n\u001b[0;32m     19\u001b[0m \u001b[38;5;28mprint\u001b[39m(X_train[\u001b[38;5;124m'\u001b[39m\u001b[38;5;124mmean_rem\u001b[39m\u001b[38;5;124m'\u001b[39m]\u001b[38;5;241m.\u001b[39mshape)\n",
      "\u001b[1;31mNameError\u001b[0m: name 'obtain_X_y' is not defined"
     ]
    }
   ],
   "source": [
    "# Con nuestra primera aproximación (imputación con la media)\n",
    "# Eliminación de variables altamente correlacionadas\n",
    "# Utilizamos el holdout con un 30% para la prueba y 70% para el entrenamiento\n",
    "#Tenemos datos imputados por la media, datos imputados por KNN y los de Feature Selection\n",
    "\n",
    "from sklearn.model_selection import train_test_split\n",
    "\n",
    "X = dict()\n",
    "y = dict()\n",
    "X_train = dict()\n",
    "y_train = dict()\n",
    "X_test = dict()\n",
    "y_test = dict()\n",
    "\n",
    "\n",
    "X['mean_rem'], y['mean_rem'] = obtain_X_y(df_pipeline_mean_rem)\n",
    "\n",
    "X_train['mean_rem'], X_test['mean_rem'], y_train['mean_rem'], y_test['mean_rem'] = train_test_split(X['mean_rem'],y['mean_rem'],random_state=1234,test_size=0.3)\n",
    "print(X_train['mean_rem'].shape)\n",
    "print(X_test['mean_rem'].shape)\n",
    "print(y_train['mean_rem'].shape)\n",
    "print(y_test['mean_rem'].shape)"
   ]
  },
  {
   "cell_type": "code",
   "execution_count": null,
   "metadata": {},
   "outputs": [],
   "source": [
    "# Con nuestra segunda aproximación (imputación con knn con k=19)\n",
    "# Eliminando variables altamente correlacionadas\n",
    "\n",
    "X['knn_rem'], y['knn_rem'] = obtain_X_y(df_pipeline_knn_rem)\n",
    "\n",
    "X_train['knn_rem'], X_test['knn_rem'], y_train['knn_rem'], y_test['knn_rem'] = train_test_split(X['knn_rem'],y['knn_rem'],random_state=1234,test_size=0.3)"
   ]
  },
  {
   "attachments": {},
   "cell_type": "markdown",
   "metadata": {},
   "source": [
    "### 5. Métricas de evaluación"
   ]
  },
  {
   "cell_type": "code",
   "execution_count": null,
   "metadata": {},
   "outputs": [],
   "source": [
    "#Este método cálcula las métricas tanto para entrenamiento como para prueba. \n",
    "\n",
    "\n",
    "# Implementamos una función que nos permita calcular las métricas de regresión para el conjunto \n",
    "# de entrenamiento y de prueba\n",
    "# R2, R2 Ajustado MAE, MAPE, MSE, RMSE\n",
    "# El coeficiente de determinación se puede ver como la varianza total explicada por el modelo, \n",
    "# es decir la proporción de la varianza en la variable dependiente que se puede predecir a partir de \n",
    "# las variables independientes\n",
    "# Nos retorna el modelo entrenado y un diccionario con las principales métricas sobre el conjunto de\n",
    "# entrenamiento y el de prueba\n",
    "\n",
    "from sklearn.metrics import r2_score, mean_absolute_error, mean_absolute_percentage_error, mean_squared_error\n",
    "\n",
    "def regression_metrics(model,X_train,X_test,y_train,y_test):\n",
    "    model.fit(X_train, y_train)\n",
    "    y_pred_train = model.predict(X_train)\n",
    "    y_pred_test = model.predict(X_test)\n",
    "    k_train = X_train.shape[1]\n",
    "    n_train = len(X_train)\n",
    "    k_test = X_test.shape[1]\n",
    "    n_test = len(X_test)\n",
    "    r2_train = r2_score(y_train, y_pred_train)\n",
    "    r2_test = r2_score(y_test, y_pred_test)\n",
    "    adj_r2_train = 1-(1-r2_train)*(n_train-1)/(n_train-k_train-1)\n",
    "    adj_r2_test = 1-(1-r2_test)*(n_test-1)/(n_test-k_test-1)\n",
    "    metrics = {\"Training R^2\": r2_train,\n",
    "               \"Test R^2\": r2_test,\n",
    "               \"Training Adj R^2\": adj_r2_train,\n",
    "               \"Test Adj R^2\": adj_r2_test,\n",
    "               \"Training MAE\": mean_absolute_error(y_train,y_pred_train),\n",
    "               \"Test MAE\": mean_absolute_error(y_test,y_pred_test),\n",
    "               \"Training MAPE\": mean_absolute_percentage_error(y_train,y_pred_train),\n",
    "               \"Test MAPE\": mean_absolute_percentage_error(y_test,y_pred_test),\n",
    "               \"Training RMSE\": np.sqrt(mean_squared_error(y_train, y_pred_train)),\n",
    "               \"Test RMSE\": np.sqrt(mean_squared_error(y_test, y_pred_test))    \n",
    "               }\n",
    "    for item in metrics.items():\n",
    "        print(item[0],\"=\",item[1])\n",
    "    return model,metrics\n",
    "    \n",
    "def r2_metrics(model,X_train,X_test,y_train,y_test):\n",
    "    model.fit(X_train, y_train)\n",
    "    y_pred_train = model.predict(X_train)\n",
    "    y_pred_test = model.predict(X_test)\n",
    "    k_train = X_train.shape[1]\n",
    "    n_train = len(X_train)\n",
    "    k_test = X_test.shape[1]\n",
    "    n_test = len(X_test)\n",
    "    r2_train = r2_score(y_train, y_pred_train)\n",
    "    r2_test = r2_score(y_test, y_pred_test)\n",
    "    adj_r2_train = 1-(1-r2_train)*(n_train-1)/(n_train-k_train-1)\n",
    "    adj_r2_test = 1-(1-r2_test)*(n_test-1)/(n_test-k_test-1)\n",
    "    return r2_train, r2_test, adj_r2_train, adj_r2_test\n"
   ]
  },
  {
   "cell_type": "markdown",
   "metadata": {},
   "source": [
    "## 6. Implementación de modelos"
   ]
  },
  {
   "attachments": {},
   "cell_type": "markdown",
   "metadata": {},
   "source": [
    "### 6.1. Baseline\n",
    "Como punto de partida para poder comparar cualquier modelo de regresión que pensemos implementar, debemos establecer un baseline. Al estar tratando con una tarea de regresión, hacemos uso de un Dummy regressor con estrategía de la media."
   ]
  },
  {
   "cell_type": "code",
   "execution_count": null,
   "metadata": {},
   "outputs": [],
   "source": [
    "# Establecemos el baseline a partir de un dummy regressor.\n",
    "#El baseline es el punto de referencia para saber con la implementación de los modelos cómo vamos mejorando.\n",
    "\n",
    "from sklearn.dummy import DummyRegressor\n",
    "\n",
    "print('Using a dataframe imputed with the mean and with highly correlated variables removed')\n",
    "regression_metrics(DummyRegressor(strategy='mean'),X_train['mean_rem'],X_test['mean_rem'],y_train['mean_rem'],y_test['mean_rem'])\n",
    "print()\n",
    "print('Using a dataframe imputed with knn and with highly correlated variables removed')\n",
    "regression_metrics(DummyRegressor(strategy='mean'),X_train['knn_rem'],X_test['knn_rem'],y_train['knn_rem'],y_test['knn_rem'])\n"
   ]
  },
  {
   "cell_type": "markdown",
   "metadata": {},
   "source": [
    "Por supuesto podemos observar que los resultados no son buenos con este regresor."
   ]
  },
  {
   "attachments": {},
   "cell_type": "markdown",
   "metadata": {},
   "source": [
    "### 6.2. Modelo de K vecinos más cercanos\n",
    "Un algoritmo simple pero bastante útil que nos sirve para resolver tanto tareas de clasificación como de regresión. \n",
    "\n",
    "- Es fácil de entender e implementar\n",
    "- No hace suposiciones sobre la distribución de los datos.\n"
   ]
  },
  {
   "cell_type": "markdown",
   "metadata": {},
   "source": [
    "Procederemos utilizando nuestros dataframes resultado de las etapas previas del proceso de analítica de datos.\n",
    "\n",
    "Iniciamos con el dataframe imputado con la media y en el que eliminamos aquellas variables que se encontraban altamente correlacionadas entre sí (para evitar problemas de multicolinealidad)"
   ]
  },
  {
   "cell_type": "code",
   "execution_count": null,
   "metadata": {},
   "outputs": [],
   "source": [
    "# Utilizamos knn\n",
    "# Con el dataset imputado con la media y eliminando las variables \n",
    "# altamente correlacionadas\n",
    "# Utilizamos el Knn regressor con sus parámetros por defecto\n",
    "\n",
    "from sklearn.neighbors import KNeighborsRegressor\n",
    "\n",
    "knnReg = KNeighborsRegressor()\n",
    "regression_metrics(knnReg,X_train['mean_rem'],X_test['mean_rem'],y_train['mean_rem'],y_test['mean_rem'])"
   ]
  },
  {
   "cell_type": "markdown",
   "metadata": {},
   "source": [
    "Observamos que knn no nos brinda un tan buen resultado. Evidentemente no es porque este sea un mal modelo, el problema es que este modelo se basa en distancias y si las escalas de las variables son diferentes, las decisiones del modelo estarán inapropiadamente dominadas por aquellas con mayor escala.\n",
    "\n",
    "Por ello podemos normalizar o estandarizar los datos y verificar los resultados nuevamente."
   ]
  },
  {
   "cell_type": "markdown",
   "metadata": {},
   "source": [
    "Se debe tener en cuenta las diferencias en los procesos de escalamiento:\n",
    "- Normalizar: las observaciones se cambian y reescalan de manera que terminen en un rango entre 0 y 1. También se le conoce como escalamiento min-max X_new = (X_ — X_min)/(X_max — X_min). No maneja muy bien los datos atípicos\n",
    "- Estandarizar: es el proceso de poner distintas variables en la misma escala. Para cada observación de la variable se le substrae la media y se divide por la desviación estándar. La estandarización asume que los datos siguen una distribución normal. En este caso el resultado tienen sentido pues estamos utilizando un modelo no paramétrico, no lineal"
   ]
  },
  {
   "cell_type": "code",
   "execution_count": null,
   "metadata": {},
   "outputs": [],
   "source": [
    "\n",
    "from sklearn.preprocessing import StandardScaler, MinMaxScaler\n",
    "from sklearn.pipeline import make_pipeline\n",
    "\n",
    "print('Stadardization')\n",
    "knnReg_st = make_pipeline(StandardScaler(),KNeighborsRegressor())\n",
    "regression_metrics(knnReg_st,X_train['mean_rem'],X_test['mean_rem'],y_train['mean_rem'],y_test['mean_rem'])\n",
    "print()\n",
    "print('Normalization')\n",
    "knnReg_norm = make_pipeline(MinMaxScaler(),KNeighborsRegressor())\n",
    "regression_metrics(knnReg_norm,X_train['mean_rem'],X_test['mean_rem'],y_train['mean_rem'],y_test['mean_rem'])"
   ]
  },
  {
   "cell_type": "markdown",
   "metadata": {},
   "source": [
    "Analizando los resultados podemos observar que en ambos casos, al utilizar procesos de escalamiento, se mejoran los resultados.\n",
    "\n",
    "Ahora buscamos el mejor valor de k (único hiperparámetro de este modelo)"
   ]
  },
  {
   "cell_type": "code",
   "execution_count": null,
   "metadata": {},
   "outputs": [],
   "source": [
    "# Podemos encontrar el mejor k para nuestro modelo\n",
    "# Utilizamos un pipeline para incluir la estandarización y el regresor knn \n",
    "#Se hace a través de heurísticas o de forma gráfica, debido a que el único hiperparametro es K \n",
    "\n",
    "for k in range(1,21,2):\n",
    "    print('Results for k =',k)\n",
    "    knnReg_st = make_pipeline(StandardScaler(),KNeighborsRegressor(n_neighbors=k))\n",
    "    regression_metrics(knnReg_st,X_train['mean_rem'],X_test['mean_rem'],y_train['mean_rem'],y_test['mean_rem'])\n",
    "    print()\n"
   ]
  },
  {
   "cell_type": "code",
   "execution_count": null,
   "metadata": {},
   "outputs": [],
   "source": [
    "# Visualizamos el R^2\n",
    "\n",
    "results = [r2_metrics(make_pipeline(StandardScaler(),KNeighborsRegressor(n_neighbors=i)),\n",
    "            X_train['mean_rem'],X_test['mean_rem'],y_train['mean_rem'],y_test['mean_rem'])[1] for i in range(1,21,2)]\n",
    "ax = sns.lineplot(x=range(1,21,2),\n",
    "             y=results)\n",
    "ax.set(title=\"R^2 vs K neighbors\",ylabel='R^2',xlabel='K neighbors')\n",
    "kvals = [(col,i) for col,i in zip(results,range(1,21,2))]\n",
    "\n",
    "print(sorted(kvals, key=lambda x: x[0],reverse=True)[0])"
   ]
  },
  {
   "attachments": {},
   "cell_type": "markdown",
   "metadata": {},
   "source": [
    "Modelo de K vecinos más cercanos con k=9, datos imputados con la media y eliminando variables altamente correlacionadas.\n",
    "\n",
    "Hacemos uso de pickle para guardar tanto el modelo ya entrenado como el resultado de las métricas de manera que al finalizar podamos comparar entre todos los modelos implementados y elegir el que presente mejores resultados en cuanto a las métricas más importantes sobre tareas de regresión"
   ]
  },
  {
   "cell_type": "code",
   "execution_count": null,
   "metadata": {},
   "outputs": [],
   "source": [
    "#Recuerde que el Regression Metrics guarda el modelo y las métricas\n",
    "\n",
    "import pickle\n",
    "# Guardamos el mejor modelo utilizando k=9 con todas las variables independientes e imputación con la media\n",
    "\n",
    "model,metrics = regression_metrics(make_pipeline(StandardScaler(),KNeighborsRegressor(n_neighbors=9)),\n",
    "                                   X_train['mean_rem'],X_test['mean_rem'],y_train['mean_rem'],y_test['mean_rem'])\n",
    "pickle.dump(model, open('models/KnnRegressorImpMeanRem.pkl','wb')) #Modelo lo va a guardar en esta carpeta\n",
    "pickle.dump(metrics, open('metrics/KnnRegressorImpMeanRemMetrics.pkl','wb')) #Modelo lo va a gurdar en una carpeta"
   ]
  },
  {
   "cell_type": "markdown",
   "metadata": {},
   "source": [
    "### Selección de características\n",
    "\n",
    "Aunque previamente, en la etapa de ingeniería de características habíamos creado nuevas variables y eliminado otras, en esta etapa verificaremos la importancia de las variables independientes con respecto a la objetivo utilizando distintos métodos. \n",
    "\n",
    "Esto con el fin de hallar el mejor grupo de variables que sirvan como insumo para nuestros modelos."
   ]
  },
  {
   "cell_type": "code",
   "execution_count": null,
   "metadata": {},
   "outputs": [],
   "source": [
    "# Utilizamos un método para extracción recursiva de características utilizando validación cruzada\n",
    "# Con este método obtenemos las variables independientes más importantes dentro del dataframe \n",
    "#Modelo de random forest con 100 arboles y 5 cross validation (feature selection)\n",
    "\n",
    "from sklearn.feature_selection import RFECV\n",
    "from sklearn.ensemble import RandomForestRegressor\n",
    "\n",
    "estimator = RandomForestRegressor(n_estimators=100)\n",
    "selector = RFECV(estimator, step=1, cv=5)\n",
    "selector = selector.fit(X_train['mean_rem'], y_train['mean_rem'])\n",
    " \n",
    "print(\"Ranking de características\", selector.ranking_)"
   ]
  },
  {
   "cell_type": "markdown",
   "metadata": {},
   "source": [
    "Utilizamos el método SelectKBest que nos permite seleccionar las  K mejores características utilizando como función de puntaje el f-regression.\n",
    "\n",
    "El f-regression realiza una prueba estadística F entre cada característica y el target en un problema de regresión. (las independientes están influenciando a la variable objetivo) \n",
    "\n",
    "Calcula la relación entre cada característica independiente y la variable dependiente.\n",
    "\n",
    "La prueba F compara el modelo de regresión que incluye una característica con un modelo que no la incluye.\n",
    "\n",
    "Devuelve dos valores: la estadística F y el valor p correspondiente para cada característica. Un valor más alto de la estadística F indica una relación más fuerte entre la característica y la variable objetivo. Un valor p bajo indica que es poco probable que la característica no tenga una relación con la variable objetivo, es decir, la característica es relevante."
   ]
  },
  {
   "cell_type": "markdown",
   "metadata": {},
   "source": [
    "Graficamos con respecto al R^2 para observar cuál es el número de variables a seleccionar que nos presentan un mejor resultado.\n",
    "\n",
    "Iteramos de 1 al número máximo de variables (en este caso 12)"
   ]
  },
  {
   "cell_type": "code",
   "execution_count": null,
   "metadata": {},
   "outputs": [],
   "source": [
    "#FEATURE SELECTION\n",
    "\n",
    "\n",
    "from sklearn.feature_selection import SelectKBest\n",
    "from sklearn.feature_selection import f_regression\n",
    "\n",
    "results = [r2_metrics(make_pipeline(SelectKBest(score_func=f_regression, k=i),\n",
    "                                                 StandardScaler(), #Estandarizo\n",
    "                                                 KNeighborsRegressor(n_neighbors=9)), #Entreno el modelo con 9 vecinos\n",
    "            X_train['mean_rem'],X_test['mean_rem'],y_train['mean_rem'],y_test['mean_rem'])[1] for i in range(1,13)]\n",
    "ax = sns.lineplot(x=range(1,13),\n",
    "             y=results)\n",
    "ax.set(title=\"R^2 vs K selected features\",ylabel='R^2',xlabel='K selected features')\n",
    "kvals = [(col,i) for col,i in zip(results,range(1,13))]\n",
    "\n",
    "print(sorted(kvals, key=lambda x: x[0],reverse=True)[0])\n",
    "\n",
    "#EL número optimo de variables es 5, porque refleja el mayor R2. (Recuerdo, ya hemos eliminado las variables que no aportan, aquí después de eso, estamos seleccionando las mejores)"
   ]
  },
  {
   "cell_type": "markdown",
   "metadata": {},
   "source": [
    "Guardamos el mejor modelo y sus métricas. (Haremos un paso adicional con k igual a 5). Acá mejora el R2 que habíamos encontrado antes."
   ]
  },
  {
   "cell_type": "code",
   "execution_count": null,
   "metadata": {},
   "outputs": [],
   "source": [
    "from sklearn.feature_selection import SelectKBest\n",
    "from sklearn.feature_selection import f_regression\n",
    "# Guardamos el mejor modelo utilizando k=9 con feature selection (con 5 elegidas), \n",
    "# imputación con la media y eliminación de variables altamente correlacionadas\n",
    "\n",
    "model,metrics = regression_metrics(make_pipeline(SelectKBest(score_func=f_regression, k=5),\n",
    "                                                 StandardScaler(),\n",
    "                                                 KNeighborsRegressor(n_neighbors=9)),\n",
    "                                   X_train['mean_rem'],X_test['mean_rem'],y_train['mean_rem'],y_test['mean_rem'])\n",
    "pickle.dump(model, open('models/KnnRegressorFSImpMeanRem.pkl','wb'))\n",
    "pickle.dump(metrics, open('metrics/KnnRegressorFSImpMeanRemMetrics.pkl','wb'))"
   ]
  },
  {
   "cell_type": "markdown",
   "metadata": {},
   "source": [
    "Ahora trabajamos con el segundo dataframe, en el que los datos se imputaron con knn con k=19 y se eliminaron las variables altamente correlacionadas entre sí"
   ]
  },
  {
   "cell_type": "code",
   "execution_count": null,
   "metadata": {},
   "outputs": [],
   "source": [
    "# Podemos encontrar el mejor k para nuestro modelo\n",
    "# Utilizamos un pipeline para incluir la estandarización y el regresor knn \n",
    "\n",
    "for k in range(1,21,2):\n",
    "    print('Results for k =',k)\n",
    "    knnReg_st = make_pipeline(StandardScaler(),KNeighborsRegressor(n_neighbors=k))\n",
    "    regression_metrics(knnReg_st,X_train['knn_rem'],X_test['knn_rem'],y_train['knn_rem'],y_test['knn_rem'])\n",
    "    print()"
   ]
  },
  {
   "cell_type": "code",
   "execution_count": null,
   "metadata": {},
   "outputs": [],
   "source": [
    "# Visualizamos el R^2 (para ver cuál es la mejor cantidad de vecinos)\n",
    "\n",
    "results = [r2_metrics(make_pipeline(StandardScaler(),KNeighborsRegressor(n_neighbors=i)),\n",
    "            X_train['knn_rem'],X_test['knn_rem'],y_train['knn_rem'],y_test['knn_rem'])[1] for i in range(1,21,2)]\n",
    "ax = sns.lineplot(x=range(1,21,2),\n",
    "             y=results)\n",
    "ax.set(title=\"R^2 vs K neighbors\",ylabel='R^2',xlabel='K neighbors')\n",
    "kvals = [(col,i) for col,i in zip(results,range(1,21,2))]\n",
    "\n",
    "print(sorted(kvals, key=lambda x: x[0],reverse=True)[0])"
   ]
  },
  {
   "cell_type": "code",
   "execution_count": null,
   "metadata": {},
   "outputs": [],
   "source": [
    "model,metrics = regression_metrics(make_pipeline(StandardScaler(),KNeighborsRegressor(n_neighbors=7)),\n",
    "                                   X_train['knn_rem'],X_test['knn_rem'],y_train['knn_rem'],y_test['knn_rem'])\n",
    "pickle.dump(model, open('models/KnnRegressorImpKnnRem.pkl','wb'))\n",
    "pickle.dump(metrics, open('metrics/KnnRegressorImpKnnRemMetrics.pkl','wb'))"
   ]
  },
  {
   "cell_type": "code",
   "execution_count": null,
   "metadata": {},
   "outputs": [],
   "source": [
    "estimator = RandomForestRegressor(n_estimators=100)\n",
    "selector = RFECV(estimator, step=1, cv=5)\n",
    "selector = selector.fit(X_train['knn_rem'], y_train['knn_rem'])\n",
    " \n",
    "print(\"Ranking de características\", selector.ranking_)"
   ]
  },
  {
   "cell_type": "code",
   "execution_count": null,
   "metadata": {},
   "outputs": [],
   "source": [
    "#Select k best (mejores features) con el número de vecinos óptimo\n",
    "\n",
    "results = [r2_metrics(make_pipeline(SelectKBest(score_func=f_regression, k=i),\n",
    "                                                 StandardScaler(),\n",
    "                                                 KNeighborsRegressor(n_neighbors=7)),\n",
    "            X_train['knn_rem'],X_test['knn_rem'],y_train['knn_rem'],y_test['knn_rem'])[1] for i in range(1,13)]\n",
    "ax = sns.lineplot(x=range(1,13),\n",
    "             y=results)\n",
    "ax.set(title=\"R^2 vs K selected features\",ylabel='R^2',xlabel='K selected features')\n",
    "kvals = [(col,i) for col,i in zip(results,range(1,13))]\n",
    "\n",
    "print(sorted(kvals, key=lambda x: x[0],reverse=True)[0])"
   ]
  },
  {
   "attachments": {},
   "cell_type": "markdown",
   "metadata": {},
   "source": [
    "Modelo de K vecinos más cercanos con k=5, feature selection y datos imputados con knn"
   ]
  },
  {
   "cell_type": "code",
   "execution_count": null,
   "metadata": {},
   "outputs": [],
   "source": [
    "# Guardamos el mejor modelo utilizando k=7 con feature selection (con 5 elegidas), \n",
    "# imputación con knn y eliminación de variables altamente correlacionadas\n",
    "\n",
    "model,metrics = regression_metrics(make_pipeline(SelectKBest(score_func=f_regression, k=5),\n",
    "                                                 StandardScaler(),\n",
    "                                                 KNeighborsRegressor(n_neighbors=7)),\n",
    "                                   X_train['knn_rem'],X_test['knn_rem'],y_train['knn_rem'],y_test['knn_rem'])\n",
    "pickle.dump(model, open('models/KnnRegressorFSImpKnnRem.pkl','wb'))\n",
    "pickle.dump(metrics, open('metrics/KnnRegressorFSImpKnnRemMetrics.pkl','wb'))"
   ]
  },
  {
   "attachments": {},
   "cell_type": "markdown",
   "metadata": {},
   "source": [
    "### 6.3. Modelo de árbol de regresión"
   ]
  },
  {
   "cell_type": "code",
   "execution_count": null,
   "metadata": {},
   "outputs": [],
   "source": [
    "# Utilizamos un árbol de regresión\n",
    "# Verificamos sus métricas\n",
    "\n",
    "from sklearn.tree import DecisionTreeRegressor, plot_tree\n",
    "\n",
    "regression_metrics(DecisionTreeRegressor(random_state=1234),X_train['mean_rem'],X_test['mean_rem'],y_train['mean_rem'],y_test['mean_rem'])\n",
    "\n",
    "tree_reg = DecisionTreeRegressor(random_state=1234).fit(X_train['mean_rem'],y_train['mean_rem'])\n",
    "\n",
    "# Diagramamos los primeros tres niveles del árbol resultante\n",
    "\n",
    "plt.figure(figsize=(20,20))\n",
    "plot_tree(tree_reg,filled=False,fontsize=14,max_depth=3)\n"
   ]
  },
  {
   "attachments": {},
   "cell_type": "markdown",
   "metadata": {},
   "source": [
    "Búsqueda del mejor modelo para árbol de decisión con GridSearchCV\n",
    "- Conjunto de datos imputados con la media y variables altamente correlacionadas entre sí eliminadas"
   ]
  },
  {
   "cell_type": "code",
   "execution_count": null,
   "metadata": {},
   "outputs": [],
   "source": [
    "# Vamos a realizar un ajuste de hiperparámetros para encontrar el mejor modelo de árbol de regresión\n",
    "# Establecemos la grilla de parámetros que verificar\n",
    "# Haciendo uso de estos parámetros y una validación cruzada de 3 doblajes buscamos el mejor modelo\n",
    "# Tiempo de ejecución aprox: 12s\n",
    "\n",
    "parameters={\"splitter\":[\"best\",\"random\"],\n",
    "            \"max_depth\" : [1,3,5,7,9,11],\n",
    "           \"min_samples_leaf\":[1,2,3,4,],\n",
    "           \"max_leaf_nodes\":[None,10,20,30] } #Solo se usaron 4 hiperparametros y pocos valores por temas de tiempo\n",
    "\n",
    "from sklearn.model_selection import GridSearchCV\n",
    "\n",
    "tuning_model=GridSearchCV(DecisionTreeRegressor(random_state=1234),param_grid=parameters,scoring='r2',cv=3,verbose=3)\n",
    "\n",
    "tuning_model.fit(X_train['mean_rem'],y_train['mean_rem'])"
   ]
  },
  {
   "cell_type": "code",
   "execution_count": null,
   "metadata": {},
   "outputs": [],
   "source": [
    "# Los híperparámetros del mejor modelo\n",
    "\n",
    "tuning_model.best_params_"
   ]
  },
  {
   "cell_type": "code",
   "execution_count": null,
   "metadata": {},
   "outputs": [],
   "source": [
    "# El R^2 del mejor modelo\n",
    "\n",
    "tuning_model.best_score_"
   ]
  },
  {
   "attachments": {},
   "cell_type": "markdown",
   "metadata": {},
   "source": [
    "Modelo de árbol de regresión con datos imputados con la media y variables altamente correlacionadas entre sí eliminadas"
   ]
  },
  {
   "cell_type": "code",
   "execution_count": null,
   "metadata": {},
   "outputs": [],
   "source": [
    "# El mejor modelo de árbol de regresión\n",
    "# Con todas datos imputados con la media y eliminación de variables altamente correlacionadas\n",
    "\n",
    "tree_reg = DecisionTreeRegressor(random_state=1234,max_depth=9,\n",
    "                                         max_leaf_nodes=None,\n",
    "                                         min_samples_leaf=4,\n",
    "                                         splitter='best')\n",
    "\n",
    "model,metrics = regression_metrics(tree_reg,X_train['mean_rem'],X_test['mean_rem'],y_train['mean_rem'],y_test['mean_rem'])\n",
    "pickle.dump(model, open('models/DecissionTreeRegressorImpMeanrem.pkl','wb'))\n",
    "pickle.dump(metrics, open('metrics/DecisionTreeRegressorImpMeanRemMetrics.pkl','wb'))\n"
   ]
  },
  {
   "cell_type": "code",
   "execution_count": null,
   "metadata": {},
   "outputs": [],
   "source": [
    "# La visualización del mejor árbol\n",
    "\n",
    "tree_reg.fit(X_train['mean_rem'],y_train['mean_rem'])\n",
    "plt.figure(figsize=(40,40))\n",
    "plot_tree(tree_reg,filled=False,fontsize=14,max_depth=3)\n",
    "\n",
    "\n",
    "#NOTA PROFESOR: se pueden utilizar las características que particiona el árbol para hacer una especie de feature importance"
   ]
  },
  {
   "attachments": {},
   "cell_type": "markdown",
   "metadata": {},
   "source": [
    "Búsqueda del mejor modelo para árbol de decisión con GridSearchCV\n",
    "- Conjunto de datos con feature selection, datos imputados con la media y eliminación de variables altamente correlacionadas entre sí"
   ]
  },
  {
   "cell_type": "code",
   "execution_count": null,
   "metadata": {},
   "outputs": [],
   "source": [
    "# Tiempo de ejecución aprox: 10s\n",
    "\n",
    "parameters={\"splitter\":[\"best\",\"random\"],\n",
    "            \"max_depth\" : [1,3,5,7,9,11],\n",
    "           \"min_samples_leaf\":[1,2,3,4,],\n",
    "           \"max_leaf_nodes\":[None,10,20,30] }\n",
    "\n",
    "from sklearn.model_selection import GridSearchCV\n",
    "\n",
    "X_t = SelectKBest(score_func=f_regression, k=5).fit_transform(X_train['mean_rem'],y_train['mean_rem'])                                 \n",
    "\n",
    "tuning_model=GridSearchCV(DecisionTreeRegressor(random_state=1234),param_grid=parameters,scoring='r2',cv=3,verbose=3)\n",
    "tuning_model.fit(X_t,y_train['mean_rem'])"
   ]
  },
  {
   "cell_type": "code",
   "execution_count": null,
   "metadata": {},
   "outputs": [],
   "source": [
    "tuning_model.best_params_"
   ]
  },
  {
   "cell_type": "code",
   "execution_count": null,
   "metadata": {},
   "outputs": [],
   "source": [
    "tuning_model.best_score_"
   ]
  },
  {
   "attachments": {},
   "cell_type": "markdown",
   "metadata": {},
   "source": [
    "Modelo de árbol de regresión con feature selection, datos imputados con la media y eliminación de variables altamente correlacionadas entre sí."
   ]
  },
  {
   "cell_type": "code",
   "execution_count": null,
   "metadata": {},
   "outputs": [],
   "source": [
    "\n",
    "pipe_dt = make_pipeline(SelectKBest(score_func=f_regression, k=5),\n",
    "              DecisionTreeRegressor(random_state=1234,max_depth=9,\n",
    "                                         max_leaf_nodes=None,\n",
    "                                         min_samples_leaf=4,\n",
    "                                         splitter='best'))\n",
    "\n",
    "model,metrics = regression_metrics(pipe_dt,X_train['mean_rem'],X_test['mean_rem'],y_train['mean_rem'],y_test['mean_rem'])\n",
    "pickle.dump(model, open('models/DecissionTreeRegressorFSImpMeanRem.pkl','wb'))\n",
    "pickle.dump(metrics, open('metrics/DecisionTreeRegressorFSImpMeanRemMetrics.pkl','wb'))"
   ]
  },
  {
   "attachments": {},
   "cell_type": "markdown",
   "metadata": {},
   "source": [
    "Búsqueda del mejor modelo para árbol de decisión con GridSearchCV\n",
    "- Conjunto de datos con datos imputados con knn y eliminación de variables altamente correlacionadas entre sí"
   ]
  },
  {
   "cell_type": "code",
   "execution_count": null,
   "metadata": {},
   "outputs": [],
   "source": [
    "# Tiempo de ejecución aprox: 9s\n",
    "\n",
    "parameters={\"splitter\":[\"best\",\"random\"],\n",
    "            \"max_depth\" : [1,3,5,7,9,11],\n",
    "           \"min_samples_leaf\":[1,2,3,4,],\n",
    "           \"max_leaf_nodes\":[None,10,20,30] }\n",
    "\n",
    "tuning_model=GridSearchCV(DecisionTreeRegressor(random_state=1234),param_grid=parameters,scoring='r2',cv=3,verbose=3)\n",
    "\n",
    "tuning_model.fit(X_train['knn_rem'],y_train['knn_rem'])"
   ]
  },
  {
   "cell_type": "code",
   "execution_count": null,
   "metadata": {},
   "outputs": [],
   "source": [
    "tuning_model.best_params_"
   ]
  },
  {
   "cell_type": "code",
   "execution_count": null,
   "metadata": {},
   "outputs": [],
   "source": [
    "tuning_model.best_score_"
   ]
  },
  {
   "attachments": {},
   "cell_type": "markdown",
   "metadata": {},
   "source": [
    "Modelo de árbol de regresión con datos imputados con knn y eliminación de variables altamente correlacionadas entre sí."
   ]
  },
  {
   "cell_type": "code",
   "execution_count": null,
   "metadata": {},
   "outputs": [],
   "source": [
    "tree_reg = DecisionTreeRegressor(random_state=1234,max_depth=11,\n",
    "                                         max_leaf_nodes=None,\n",
    "                                         min_samples_leaf=3,\n",
    "                                         splitter='best')\n",
    "\n",
    "model,metrics = regression_metrics(tree_reg,X_train['knn_rem'],X_test['knn_rem'],y_train['knn_rem'],y_test['knn_rem'])\n",
    "pickle.dump(model, open('models/DecissionTreeRegressorImpKnnRem.pkl','wb'))\n",
    "pickle.dump(metrics, open('metrics/DecisionTreeRegressorImpKnnRemMetrics.pkl','wb'))"
   ]
  },
  {
   "attachments": {},
   "cell_type": "markdown",
   "metadata": {},
   "source": [
    "Búsqueda del mejor modelo para árbol de decisión con GridSearchCV\n",
    "- Conjunto de datos con feature selection y datos imputados con knn"
   ]
  },
  {
   "cell_type": "code",
   "execution_count": null,
   "metadata": {},
   "outputs": [],
   "source": [
    "# Tiempo de ejecución aprox: 10s\n",
    "\n",
    "parameters={\"splitter\":[\"best\",\"random\"],\n",
    "            \"max_depth\" : [1,3,5,7,9,11],\n",
    "           \"min_samples_leaf\":[1,2,3,4,],\n",
    "           \"max_leaf_nodes\":[None,10,20,30] }\n",
    "\n",
    "from sklearn.model_selection import GridSearchCV\n",
    "\n",
    "X_t = SelectKBest(score_func=f_regression, k=5).fit_transform(X_train['knn_rem'],y_train['knn_rem'])                                 \n",
    "\n",
    "tuning_model=GridSearchCV(DecisionTreeRegressor(random_state=1234),param_grid=parameters,scoring='r2',cv=3,verbose=3)\n",
    "tuning_model.fit(X_t,y_train['knn_rem'])"
   ]
  },
  {
   "cell_type": "code",
   "execution_count": null,
   "metadata": {},
   "outputs": [],
   "source": [
    "tuning_model.best_params_"
   ]
  },
  {
   "cell_type": "code",
   "execution_count": null,
   "metadata": {},
   "outputs": [],
   "source": [
    "tuning_model.best_score_"
   ]
  },
  {
   "attachments": {},
   "cell_type": "markdown",
   "metadata": {},
   "source": [
    "Modelo de árbol de regresión con feature selection y datos imputados con knn"
   ]
  },
  {
   "cell_type": "code",
   "execution_count": null,
   "metadata": {},
   "outputs": [],
   "source": [
    "pipe_dt = make_pipeline(SelectKBest(score_func=f_regression, k=5),\n",
    "              DecisionTreeRegressor(random_state=1234,max_depth=9,\n",
    "                                         max_leaf_nodes=None,\n",
    "                                         min_samples_leaf=4,\n",
    "                                         splitter='best'))\n",
    "\n",
    "model,metrics = regression_metrics(pipe_dt,X_train['knn_rem'],X_test['knn_rem'],y_train['knn_rem'],y_test['knn_rem'])\n",
    "pickle.dump(model, open('models/DecissionTreeRegressorFSImpKnnRem.pkl','wb'))\n",
    "pickle.dump(metrics, open('metrics/DecisionTreeRegressorFSImpKnnRemMetrics.pkl','wb'))"
   ]
  },
  {
   "attachments": {},
   "cell_type": "markdown",
   "metadata": {},
   "source": [
    "### 6.4. Modelo de Random Forest"
   ]
  },
  {
   "cell_type": "markdown",
   "metadata": {},
   "source": [
    "Empezamos trabajando con los datos imputados con la media"
   ]
  },
  {
   "cell_type": "code",
   "execution_count": null,
   "metadata": {},
   "outputs": [],
   "source": [
    "from sklearn.ensemble import RandomForestRegressor\n",
    "\n",
    "rf = RandomForestRegressor(random_state=1234)\n",
    "\n",
    "regression_metrics(rf,X_train['mean_rem'],X_test['mean_rem'],y_train['mean_rem'],y_test['mean_rem'])\n",
    "\n",
    "rf.fit(X_train['mean_rem'],y_train['mean_rem'])\n",
    "print(rf.get_params())"
   ]
  },
  {
   "attachments": {},
   "cell_type": "markdown",
   "metadata": {},
   "source": [
    "Búsqueda del mejor modelo para Random Forest con GridSearchCV\n",
    "- Conjunto con datos imputados con la media y eliminación de variables"
   ]
  },
  {
   "cell_type": "code",
   "execution_count": null,
   "metadata": {},
   "outputs": [],
   "source": [
    "# Tiempo de ejecución aprox: 4m\n",
    "\n",
    "params = {'max_depth': [10, 20],\n",
    "          'min_samples_leaf': [2, 4],\n",
    "          'min_samples_split': [2, 5],\n",
    "          'n_estimators': [200, 400]}\n",
    "\n",
    "tuning_model=GridSearchCV(RandomForestRegressor(random_state=1234),param_grid=params,scoring='r2',cv=3,verbose=3)\n",
    "\n",
    "tuning_model.fit(X_train['mean_rem'],y_train['mean_rem'])"
   ]
  },
  {
   "cell_type": "code",
   "execution_count": null,
   "metadata": {},
   "outputs": [],
   "source": [
    "tuning_model.best_params_"
   ]
  },
  {
   "cell_type": "code",
   "execution_count": null,
   "metadata": {},
   "outputs": [],
   "source": [
    "tuning_model.best_score_"
   ]
  },
  {
   "attachments": {},
   "cell_type": "markdown",
   "metadata": {},
   "source": [
    "Modelo de Random Forest con datos imputados con la media y eliminación de variables"
   ]
  },
  {
   "cell_type": "code",
   "execution_count": null,
   "metadata": {},
   "outputs": [],
   "source": [
    "# El mejor modelo de Random Forest\n",
    "# Con imputación con la media y elimnación de variables\n",
    "\n",
    "rf_reg = RandomForestRegressor(random_state=1234,max_depth=20,\n",
    "                                         min_samples_leaf=2,\n",
    "                                         min_samples_split=2,\n",
    "                                         n_estimators=400)\n",
    "\n",
    "model,metrics = regression_metrics(rf_reg,X_train['mean_rem'],X_test['mean_rem'],y_train['mean_rem'],y_test['mean_rem'])\n",
    "pickle.dump(model, open('models/RandomForestRegressorImpMeanRem.pkl','wb'))\n",
    "pickle.dump(metrics, open('metrics/RandomForestRegressorImpMeanRemMetrics.pkl','wb'))\n"
   ]
  },
  {
   "attachments": {},
   "cell_type": "markdown",
   "metadata": {},
   "source": [
    "Búsqueda del mejor modelo para Random Forest con GridSearchCV\n",
    "- Conjunto de datos con feature selection y datos imputados con la media"
   ]
  },
  {
   "cell_type": "code",
   "execution_count": null,
   "metadata": {},
   "outputs": [],
   "source": [
    "# Tiempo de ejecución aprox: 2m\n",
    "\n",
    "params = {'max_depth': [10, 20],\n",
    "          'min_samples_leaf': [2, 4],\n",
    "          'min_samples_split': [2, 5],\n",
    "          'n_estimators': [200, 400]}\n",
    "\n",
    "X_t = SelectKBest(score_func=f_regression,k=5).fit_transform(X_train['mean_rem'],y_train['mean_rem'])\n",
    "\n",
    "tuning_model=GridSearchCV(RandomForestRegressor(random_state=1234),param_grid=params,scoring='r2',cv=3,verbose=3)\n",
    "tuning_model.fit(X_t,y_train['mean_rem'])\n",
    "\n"
   ]
  },
  {
   "cell_type": "code",
   "execution_count": null,
   "metadata": {},
   "outputs": [],
   "source": [
    "tuning_model.best_params_"
   ]
  },
  {
   "cell_type": "code",
   "execution_count": null,
   "metadata": {},
   "outputs": [],
   "source": [
    "tuning_model.best_score_"
   ]
  },
  {
   "attachments": {},
   "cell_type": "markdown",
   "metadata": {},
   "source": [
    "Modelo de Random Forest con feature selection y datos imputados con la media"
   ]
  },
  {
   "cell_type": "code",
   "execution_count": null,
   "metadata": {},
   "outputs": [],
   "source": [
    "# Con feature selection e imputación con la media\n",
    "\n",
    "pipe_rf = make_pipeline(SelectKBest(score_func=f_regression,k=5),\n",
    "                        RandomForestRegressor(random_state=1234,max_depth=20,\n",
    "                                         min_samples_leaf=2,\n",
    "                                         min_samples_split=2,\n",
    "                                         n_estimators=400))\n",
    "\n",
    "model,metrics = regression_metrics(pipe_rf,X_train['knn_rem'],X_test['knn_rem'],y_train['knn_rem'],y_test['knn_rem'])\n",
    "pickle.dump(model, open('models/RandomForestRegressorFSImpMeanRem.pkl','wb'))\n",
    "pickle.dump(metrics, open('metrics/RandomForestRegressorFSImpMeanRemMetrics.pkl','wb'))\n"
   ]
  },
  {
   "attachments": {},
   "cell_type": "markdown",
   "metadata": {},
   "source": [
    "Búsqueda del mejor modelo para Random Forest con GridSearchCV\n",
    "- Conjunto con datos imputados con knn y elimnación de variables"
   ]
  },
  {
   "cell_type": "code",
   "execution_count": null,
   "metadata": {},
   "outputs": [],
   "source": [
    "# Tiempo de ejecución aprox: 4m\n",
    "\n",
    "params = {'max_depth': [10, 20],\n",
    "          'min_samples_leaf': [2, 4],\n",
    "          'min_samples_split': [2, 5],\n",
    "          'n_estimators': [200, 400]}\n",
    "\n",
    "tuning_model=GridSearchCV(RandomForestRegressor(random_state=1234),param_grid=params,scoring='r2',cv=3,verbose=3)\n",
    "\n",
    "tuning_model.fit(X_train['knn_rem'],y_train['knn_rem'])"
   ]
  },
  {
   "cell_type": "code",
   "execution_count": null,
   "metadata": {},
   "outputs": [],
   "source": [
    "tuning_model.best_params_"
   ]
  },
  {
   "cell_type": "code",
   "execution_count": null,
   "metadata": {},
   "outputs": [],
   "source": [
    "tuning_model.best_score_"
   ]
  },
  {
   "cell_type": "code",
   "execution_count": null,
   "metadata": {},
   "outputs": [],
   "source": [
    "# Guardamos el mejor modelo\n",
    "\n",
    "rf_reg = RandomForestRegressor(random_state=1234,max_depth=20,\n",
    "                                         min_samples_leaf=2,\n",
    "                                         min_samples_split=2,\n",
    "                                         n_estimators=400)\n",
    "\n",
    "model,metrics = regression_metrics(rf_reg,X_train['knn_rem'],X_test['knn_rem'],y_train['knn_rem'],y_test['knn_rem'])\n",
    "pickle.dump(model, open('models/RandomForestRegressorImpKnnRem.pkl','wb'))\n",
    "pickle.dump(metrics, open('metrics/RandomForestRegressorImpKnnRemMetrics.pkl','wb'))"
   ]
  },
  {
   "attachments": {},
   "cell_type": "markdown",
   "metadata": {},
   "source": [
    "Búsqueda del mejor modelo para Random Forest con GridSearchCV\n",
    "- Conjunto de datos con feature selection y datos imputados con knn"
   ]
  },
  {
   "cell_type": "code",
   "execution_count": null,
   "metadata": {},
   "outputs": [],
   "source": [
    "# Tiempo de ejecución aprox: 2m\n",
    "\n",
    "params = {'max_depth': [10, 20],\n",
    "          'min_samples_leaf': [2, 4],\n",
    "          'min_samples_split': [2, 5],\n",
    "          'n_estimators': [200, 400]}\n",
    "\n",
    "tuning_model=GridSearchCV(RandomForestRegressor(random_state=1234),param_grid=params,scoring='r2',cv=3,verbose=3)\n",
    "X_t = SelectKBest(score_func=f_regression,k=5).fit_transform(X_train['knn_rem'],y_train['knn_rem'])\n",
    "tuning_model.fit(X_t,y_train['knn_rem'])"
   ]
  },
  {
   "cell_type": "code",
   "execution_count": null,
   "metadata": {},
   "outputs": [],
   "source": [
    "tuning_model.best_params_"
   ]
  },
  {
   "cell_type": "code",
   "execution_count": null,
   "metadata": {},
   "outputs": [],
   "source": [
    "tuning_model.best_score_"
   ]
  },
  {
   "attachments": {},
   "cell_type": "markdown",
   "metadata": {},
   "source": [
    "Modelo de Random Forest con feature selection y datos imputados con knn"
   ]
  },
  {
   "cell_type": "code",
   "execution_count": null,
   "metadata": {},
   "outputs": [],
   "source": [
    "# Con feature selection e imputación con knn\n",
    "\n",
    "\n",
    "pipe_rf = make_pipeline(SelectKBest(score_func=f_regression,k=5),\n",
    "                         RandomForestRegressor(random_state=1234,max_depth=20,\n",
    "                                         min_samples_leaf=2,\n",
    "                                         min_samples_split=2,\n",
    "                                         n_estimators=200))\n",
    "\n",
    "model,metrics = regression_metrics(pipe_rf,X_train['knn_rem'],X_test['knn_rem'],y_train['knn_rem'],y_test['knn_rem'])\n",
    "pickle.dump(model, open('models/RandomForestRegressorFSImpKnnRem.pkl','wb'))\n",
    "pickle.dump(metrics, open('metrics/RandomForestRegressorFSImpKnnRemMetrics.pkl','wb'))"
   ]
  },
  {
   "attachments": {},
   "cell_type": "markdown",
   "metadata": {},
   "source": [
    "### 6.5. Modelo de Gradient Boosting"
   ]
  },
  {
   "cell_type": "code",
   "execution_count": null,
   "metadata": {},
   "outputs": [],
   "source": [
    "# Datos imputados con la media\n",
    "\n",
    "from sklearn.ensemble import GradientBoostingRegressor\n",
    "\n",
    "gb = GradientBoostingRegressor(random_state=1234)\n",
    "\n",
    "regression_metrics(gb,X_train['mean_rem'],X_test['mean_rem'],y_train['mean_rem'],y_test['mean_rem'])\n",
    "\n",
    "gb.fit(X_train['mean_rem'],y_train['mean_rem'])\n",
    "print(gb.get_params())"
   ]
  },
  {
   "attachments": {},
   "cell_type": "markdown",
   "metadata": {},
   "source": [
    "Búsqueda del mejor modelo para Gradient Boosting con GridSearchCV\n",
    "- Conjunto de datos imputados con la media"
   ]
  },
  {
   "cell_type": "code",
   "execution_count": null,
   "metadata": {},
   "outputs": [],
   "source": [
    "# Tiempo de ejecución aprox: 6m\n",
    "\n",
    "params = {'learning_rate': [0.01,0.03],\n",
    "                  'subsample'    : [0.5, 0.2],\n",
    "                  'n_estimators' : [500,1000],\n",
    "                  'max_depth'    : [4,6,8]    \n",
    "            }\n",
    "\n",
    "tuning_model=GridSearchCV(GradientBoostingRegressor(random_state=1234),param_grid=params,scoring='r2',cv=3,verbose=3)\n",
    "tuning_model.fit(X_train['mean_rem'],y_train['mean_rem'])"
   ]
  },
  {
   "cell_type": "code",
   "execution_count": null,
   "metadata": {},
   "outputs": [],
   "source": [
    "tuning_model.best_params_"
   ]
  },
  {
   "cell_type": "code",
   "execution_count": null,
   "metadata": {},
   "outputs": [],
   "source": [
    "tuning_model.best_score_"
   ]
  },
  {
   "attachments": {},
   "cell_type": "markdown",
   "metadata": {},
   "source": [
    "Modelo de Gradient Boosting con datos imputados con la media"
   ]
  },
  {
   "cell_type": "code",
   "execution_count": null,
   "metadata": {},
   "outputs": [],
   "source": [
    "# Con todas las variables e imputación con la media\n",
    "\n",
    "gb_reg = GradientBoostingRegressor(random_state=1234,learning_rate=0.01,\n",
    "                                         max_depth=8,\n",
    "                                         n_estimators=1000,\n",
    "                                         subsample=0.5)\n",
    "\n",
    "model,metrics = regression_metrics(gb_reg,X_train['mean_rem'],X_test['mean_rem'],y_train['mean_rem'],y_test['mean_rem'])\n",
    "pickle.dump(model, open('models/GradientBoostingRegressorImpMeanRem.pkl','wb'))\n",
    "pickle.dump(metrics, open('metrics/GradientBoostingRegressorImpMeanRemMetrics.pkl','wb'))"
   ]
  },
  {
   "attachments": {},
   "cell_type": "markdown",
   "metadata": {},
   "source": [
    "Modelo de Gradient Boosting con feature selection y datos imputados con la media"
   ]
  },
  {
   "cell_type": "code",
   "execution_count": null,
   "metadata": {},
   "outputs": [],
   "source": [
    "# Tiempo de ejecución aprox: 3m\n",
    "\n",
    "params = {'learning_rate': [0.01,0.03],\n",
    "                  'subsample'    : [0.5, 0.2],\n",
    "                  'n_estimators' : [500,1000],\n",
    "                  'max_depth'    : [4,6,8]    \n",
    "            }\n",
    "\n",
    "X_t = SelectKBest(score_func=f_regression,k=5).fit_transform(X_train['mean_rem'],y_train['mean_rem'])\n",
    "\n",
    "tuning_model=GridSearchCV(GradientBoostingRegressor(random_state=1234),param_grid=params,scoring='r2',cv=3,verbose=3)\n",
    "tuning_model.fit(X_t,y_train['mean_rem'])"
   ]
  },
  {
   "cell_type": "code",
   "execution_count": null,
   "metadata": {},
   "outputs": [],
   "source": [
    "tuning_model.best_params_"
   ]
  },
  {
   "cell_type": "code",
   "execution_count": null,
   "metadata": {},
   "outputs": [],
   "source": [
    "tuning_model.best_score_"
   ]
  },
  {
   "cell_type": "code",
   "execution_count": null,
   "metadata": {},
   "outputs": [],
   "source": [
    "# Con feature selection e imputación con la media\n",
    "\n",
    "pipe_gb = make_pipeline(SelectKBest(score_func=f_regression,k=5),\n",
    "                        GradientBoostingRegressor(random_state=1234,learning_rate=0.01,\n",
    "                                         max_depth=8,\n",
    "                                         n_estimators=500,\n",
    "                                         subsample=0.5))\n",
    "\n",
    "model,metrics = regression_metrics(pipe_gb,X_train['mean_rem'],X_test['mean_rem'],y_train['mean_rem'],y_test['mean_rem'])\n",
    "pickle.dump(model, open('models/GradientBoostingRegressorFSImpMeanRem.pkl','wb'))\n",
    "pickle.dump(metrics, open('metrics/GradientBoostingRegressorFSImpMeanRemMetrics.pkl','wb'))"
   ]
  },
  {
   "attachments": {},
   "cell_type": "markdown",
   "metadata": {},
   "source": [
    "Modelo de Gradient Boosting con datos imputados con knn"
   ]
  },
  {
   "cell_type": "code",
   "execution_count": null,
   "metadata": {},
   "outputs": [],
   "source": [
    "# Tiempo de ejecución aprox: 9m\n",
    "\n",
    "params = {'learning_rate': [0.01,0.03],\n",
    "                  'subsample'    : [0.5, 0.2],\n",
    "                  'n_estimators' : [500,1000],\n",
    "                  'max_depth'    : [4,6,8]    \n",
    "            }\n",
    "\n",
    "tuning_model=GridSearchCV(GradientBoostingRegressor(random_state=1234),param_grid=params,scoring='r2',cv=3,verbose=3)\n",
    "tuning_model.fit(X_train['knn_rem'],y_train['knn_rem'])"
   ]
  },
  {
   "cell_type": "code",
   "execution_count": null,
   "metadata": {},
   "outputs": [],
   "source": [
    "tuning_model.best_params_"
   ]
  },
  {
   "cell_type": "code",
   "execution_count": null,
   "metadata": {},
   "outputs": [],
   "source": [
    "tuning_model.best_score_"
   ]
  },
  {
   "cell_type": "code",
   "execution_count": null,
   "metadata": {},
   "outputs": [],
   "source": [
    "# Con imputación con knn\n",
    "\n",
    "gb_reg = GradientBoostingRegressor(random_state=1234,learning_rate=0.01,\n",
    "                                         max_depth=8,\n",
    "                                         n_estimators=1000,\n",
    "                                         subsample=0.5)\n",
    "\n",
    "model,metrics = regression_metrics(gb_reg,X_train['knn_rem'],X_test['knn_rem'],y_train['knn_rem'],y_test['knn_rem'])\n",
    "pickle.dump(model, open('models/GradientBoostingRegressorImpKnnRem.pkl','wb'))\n",
    "pickle.dump(metrics, open('metrics/GradientBoostingRegressorImpKnnRemMetrics.pkl','wb'))"
   ]
  },
  {
   "attachments": {},
   "cell_type": "markdown",
   "metadata": {},
   "source": [
    "Modelo de Gradient Boosting con feature selection y datos imputados con knn"
   ]
  },
  {
   "cell_type": "code",
   "execution_count": null,
   "metadata": {},
   "outputs": [],
   "source": [
    "# Tiempo de ejecución aprox: 5m\n",
    "\n",
    "params = {'learning_rate': [0.01,0.03],\n",
    "                  'subsample'    : [0.5, 0.2],\n",
    "                  'n_estimators' : [500,1000],\n",
    "                  'max_depth'    : [4,6,8]    \n",
    "            }\n",
    "\n",
    "X_t = SelectKBest(score_func=f_regression,k=5).fit_transform(X_train['knn_rem'],y_train['knn_rem']) \n",
    "\n",
    "tuning_model=GridSearchCV(GradientBoostingRegressor(random_state=1234),param_grid=params,scoring='r2',cv=3,verbose=3)\n",
    "tuning_model.fit(X_t,y_train['knn_rem'])"
   ]
  },
  {
   "cell_type": "code",
   "execution_count": null,
   "metadata": {},
   "outputs": [],
   "source": [
    "tuning_model.best_params_"
   ]
  },
  {
   "cell_type": "code",
   "execution_count": null,
   "metadata": {},
   "outputs": [],
   "source": [
    "tuning_model.best_score_"
   ]
  },
  {
   "cell_type": "code",
   "execution_count": null,
   "metadata": {},
   "outputs": [],
   "source": [
    "# Con feature selection e imputación con knn\n",
    "\n",
    "pipe_gb = make_pipeline(SelectKBest(score_func=f_regression,k=5),\n",
    "                        GradientBoostingRegressor(random_state=1234,learning_rate=0.01,\n",
    "                                         max_depth=8,\n",
    "                                         n_estimators=500,\n",
    "                                         subsample=0.5))\n",
    "\n",
    "model,metrics = regression_metrics(pipe_gb,X_train['knn_rem'],X_test['knn_rem'],y_train['knn_rem'],y_test['knn_rem'])\n",
    "pickle.dump(model, open('models/GradientBoostingRegressorFSImpKnnRem.pkl','wb'))\n",
    "pickle.dump(metrics, open('metrics/GradientBoostingRegressorFSImpKnnRemMetrics.pkl','wb'))"
   ]
  },
  {
   "attachments": {},
   "cell_type": "markdown",
   "metadata": {},
   "source": [
    "### Modelo de XGBoosting"
   ]
  },
  {
   "cell_type": "code",
   "execution_count": null,
   "metadata": {},
   "outputs": [],
   "source": [
    "pip install xgboost"
   ]
  },
  {
   "cell_type": "code",
   "execution_count": null,
   "metadata": {},
   "outputs": [],
   "source": [
    "import xgboost as xgb\n",
    "\n",
    "model = xgb.XGBRegressor(random_state=1234)\n",
    "regression_metrics(model,X_train['mean_rem'],X_test['mean_rem'],y_train['mean_rem'],y_test['mean_rem'])"
   ]
  },
  {
   "attachments": {},
   "cell_type": "markdown",
   "metadata": {},
   "source": [
    "Búsqueda del mejor modelo para XGBoosting con GridSearchCV\n",
    "- Conjunto de datos con datos imputados con la media"
   ]
  },
  {
   "cell_type": "code",
   "execution_count": null,
   "metadata": {},
   "outputs": [],
   "source": [
    "# Tiempo de ejecución aprox: 28m\n",
    "\n",
    "params = {'learning_rate': [0.01,0.03],\n",
    "                  'subsample'    : [0.5, 0.2],\n",
    "                  'n_estimators' : [500,1000],\n",
    "                  'max_depth'    : [4,6,8],\n",
    "                  'gamma'        : (0,1),\n",
    "                  'min_child_weight' : (0,5),\n",
    "                  'scale_pos_weight' : (5,15),\n",
    "                  'max_depth'    : (2,5),\n",
    "                  'alpha'        : (0,10),      \n",
    "                  'eta'          : (0.001,10)    \n",
    "            }\n",
    "\n",
    "tuning_model=GridSearchCV(xgb.XGBRegressor(random_state=1234),\n",
    "                          param_grid=params,scoring='r2',cv=3,verbose=3)\n",
    "tuning_model.fit(X_train['mean_rem'],y_train['mean_rem'])"
   ]
  },
  {
   "cell_type": "code",
   "execution_count": null,
   "metadata": {},
   "outputs": [],
   "source": [
    "tuning_model.best_params_"
   ]
  },
  {
   "cell_type": "code",
   "execution_count": null,
   "metadata": {},
   "outputs": [],
   "source": [
    "tuning_model.best_score_"
   ]
  },
  {
   "attachments": {},
   "cell_type": "markdown",
   "metadata": {},
   "source": [
    "Modelo de XGBoosting con datos imputados con la media"
   ]
  },
  {
   "cell_type": "code",
   "execution_count": null,
   "metadata": {},
   "outputs": [],
   "source": [
    "# Con todas las variables e imputación con la media\n",
    "\n",
    "xgb_reg = xgb.XGBRegressor(random_state=1234,learning_rate=0.03,\n",
    "                                         max_depth=5,\n",
    "                                         n_estimators=1000,\n",
    "                                         subsample=0.5,\n",
    "                                         alpha=0,\n",
    "                                         eta=0.001,\n",
    "                                         gamma=0,\n",
    "                                         min_child_weight=0,\n",
    "                                         scale_pos_weight=5)\n",
    "\n",
    "model,metrics = regression_metrics(xgb_reg,X_train['mean_rem'],X_test['mean_rem'],y_train['mean_rem'],y_test['mean_rem'])\n",
    "pickle.dump(model, open('models/XGBoostingRegressorImpMeanRem.pkl','wb'))\n",
    "pickle.dump(metrics, open('metrics/XGBoostingRegressorImpMeanRemMetrics.pkl','wb'))"
   ]
  },
  {
   "attachments": {},
   "cell_type": "markdown",
   "metadata": {},
   "source": [
    "Modelo de XGBoosting con feature selection y datos imputados con la media"
   ]
  },
  {
   "cell_type": "code",
   "execution_count": null,
   "metadata": {},
   "outputs": [],
   "source": [
    "# Tiempo de ejecución aprox: 30m\n",
    "\n",
    "params = {'learning_rate': [0.01,0.03],\n",
    "                  'subsample'    : [0.5, 0.2],\n",
    "                  'n_estimators' : [500,1000],\n",
    "                  'max_depth'    : [4,6,8],\n",
    "                  'gamma'        : (0,1),\n",
    "                  'min_child_weight' : (0,5),\n",
    "                  'scale_pos_weight' : (5,15),\n",
    "                  'max_depth'    : (2,5),\n",
    "                  'alpha'        : (0,10),      \n",
    "                  'eta'          : (0.001,10)    \n",
    "            }\n",
    "\n",
    "X_t = SelectKBest(score_func=f_regression,k=5).fit_transform(X_train['mean_rem'],y_train['mean_rem'])\n",
    "\n",
    "tuning_model=GridSearchCV(xgb.XGBRegressor(random_state=1234),\n",
    "                          param_grid=params,scoring='r2',cv=3,verbose=3)\n",
    "tuning_model.fit(X_t,y_train['mean_rem'])"
   ]
  },
  {
   "cell_type": "code",
   "execution_count": null,
   "metadata": {},
   "outputs": [],
   "source": [
    "tuning_model.best_params_"
   ]
  },
  {
   "cell_type": "code",
   "execution_count": null,
   "metadata": {},
   "outputs": [],
   "source": [
    "tuning_model.best_score_"
   ]
  },
  {
   "cell_type": "code",
   "execution_count": null,
   "metadata": {},
   "outputs": [],
   "source": [
    "# Con feature selection e imputación con la media\n",
    "\n",
    "pipe_xgb = make_pipeline(SelectKBest(score_func=f_regression,k=5),\n",
    "                         xgb.XGBRegressor(random_state=1234,learning_rate=0.03,\n",
    "                                         max_depth=5,\n",
    "                                         n_estimators=500,\n",
    "                                         subsample=0.5,\n",
    "                                         alpha=0,\n",
    "                                         eta=0.001,\n",
    "                                         gamma=0,\n",
    "                                         min_child_weight=0,\n",
    "                                         scale_pos_weight=5))\n",
    "model,metrics = regression_metrics(pipe_xgb,X_train['mean_rem'],X_test['mean_rem'],y_train['mean_rem'],y_test['mean_rem'])\n",
    "pickle.dump(model, open('models/XGBoostingRegressorFSImpMeanRem.pkl','wb'))\n",
    "pickle.dump(metrics, open('metrics/XGBoostingRegressorFSImpMeanRemMetrics.pkl','wb'))"
   ]
  },
  {
   "attachments": {},
   "cell_type": "markdown",
   "metadata": {},
   "source": [
    "Modelo de XGBoosting con datos imputados con knn"
   ]
  },
  {
   "cell_type": "code",
   "execution_count": null,
   "metadata": {},
   "outputs": [],
   "source": [
    "# Tiempo de ejecución aprox: 65m\n",
    "\n",
    "params = {'learning_rate': [0.01,0.03],\n",
    "                  'subsample'    : [0.5, 0.2],\n",
    "                  'n_estimators' : [500,1000],\n",
    "                  'max_depth'    : [4,6,8],\n",
    "                  'gamma'        : (0,1),\n",
    "                  'min_child_weight' : (0,5),\n",
    "                  'scale_pos_weight' : (5,15),\n",
    "                  'max_depth'    : (2,5),\n",
    "                  'alpha'        : (0,10),      \n",
    "                  'eta'          : (0.001,10)    \n",
    "            }\n",
    "\n",
    "tuning_model=GridSearchCV(xgb.XGBRegressor(random_state=1234),\n",
    "                          param_grid=params,scoring='r2',cv=3,verbose=3)\n",
    "tuning_model.fit(X_train['knn_rem'],y_train['knn_rem'])"
   ]
  },
  {
   "cell_type": "code",
   "execution_count": null,
   "metadata": {},
   "outputs": [],
   "source": [
    "tuning_model.best_params_"
   ]
  },
  {
   "cell_type": "code",
   "execution_count": null,
   "metadata": {},
   "outputs": [],
   "source": [
    "tuning_model.best_score_"
   ]
  },
  {
   "cell_type": "code",
   "execution_count": null,
   "metadata": {},
   "outputs": [],
   "source": [
    "# Con imputación con knn\n",
    "\n",
    "xgb_reg = xgb.XGBRegressor(random_state=1234,learning_rate=0.03,\n",
    "                                         max_depth=8,\n",
    "                                         n_estimators=1000,\n",
    "                                         subsample=0.5,\n",
    "                                         alpha=0,\n",
    "                                         eta=0.001,\n",
    "                                         gamma=0,\n",
    "                                         min_child_weight=5,\n",
    "                                         scale_pos_weight=5)\n",
    "\n",
    "model,metrics = regression_metrics(xgb_reg,X_train['knn_rem'],X_test['knn_rem'],y_train['knn_rem'],y_test['knn_rem'])\n",
    "pickle.dump(model, open('models/XGBoostingRegressorImpKnnRem.pkl','wb'))\n",
    "pickle.dump(metrics, open('metrics/XGBoostingRegressorImpKnnRemMetrics.pkl','wb'))"
   ]
  },
  {
   "attachments": {},
   "cell_type": "markdown",
   "metadata": {},
   "source": [
    "Modelo de XGBoosting con feature selection y datos imputados con knn"
   ]
  },
  {
   "cell_type": "code",
   "execution_count": null,
   "metadata": {},
   "outputs": [],
   "source": [
    "# Tiempo de ejecución aprox: 34m\n",
    "\n",
    "params = {'learning_rate': [0.01,0.03],\n",
    "                  'subsample'    : [0.5, 0.2],\n",
    "                  'n_estimators' : [500,1000],\n",
    "                  'max_depth'    : [4,6,8],\n",
    "                  'gamma'        : (0,1),\n",
    "                  'min_child_weight' : (0,5),\n",
    "                  'scale_pos_weight' : (5,15),\n",
    "                  'max_depth'    : (2,5),\n",
    "                  'alpha'        : (0,10),      \n",
    "                  'eta'          : (0.001,10)    \n",
    "            }\n",
    "\n",
    "tuning_model=GridSearchCV(xgb.XGBRegressor(random_state=1234),\n",
    "                          param_grid=params,scoring='r2',cv=3,verbose=3)\n",
    "\n",
    "X_t = SelectKBest(score_func=f_regression,k=5).fit_transform(X_train['knn_rem'],y_train['knn_rem'])\n",
    "\n",
    "tuning_model.fit(X_train['knn_rem'],y_train['knn_rem'])"
   ]
  },
  {
   "cell_type": "code",
   "execution_count": null,
   "metadata": {},
   "outputs": [],
   "source": [
    "tuning_model.best_params_"
   ]
  },
  {
   "cell_type": "code",
   "execution_count": null,
   "metadata": {},
   "outputs": [],
   "source": [
    "tuning_model.best_score_"
   ]
  },
  {
   "cell_type": "code",
   "execution_count": null,
   "metadata": {},
   "outputs": [],
   "source": [
    "# Con feature selection e imputación con knn\n",
    "\n",
    "pipe_xgb = make_pipeline(SelectKBest(score_func=f_regression,k=5),\n",
    "                         xgb.XGBRegressor(random_state=1234,learning_rate=0.03,\n",
    "                                         max_depth=5,\n",
    "                                         n_estimators=1000,\n",
    "                                         subsample=0.5,\n",
    "                                         alpha=0,\n",
    "                                         eta=0.001,\n",
    "                                         gamma=0,\n",
    "                                         min_child_weight=0,\n",
    "                                         scale_pos_weight=5))\n",
    "model,metrics = regression_metrics(pipe_xgb,X_train['knn_rem'],X_test['knn_rem'],y_train['knn_rem'],y_test['knn_rem'])\n",
    "pickle.dump(model, open('models/XGBoostingRegressorFSImpKnnRem.pkl','wb'))\n",
    "pickle.dump(metrics, open('metrics/XGBoostingRegressorFSImpKnnRemMetrics.pkl','wb'))"
   ]
  },
  {
   "attachments": {},
   "cell_type": "markdown",
   "metadata": {},
   "source": [
    "### Comparación de los distintos modelos"
   ]
  },
  {
   "attachments": {},
   "cell_type": "markdown",
   "metadata": {},
   "source": [
    "Cargamos las métricas de los modelos previamente guardados "
   ]
  },
  {
   "cell_type": "code",
   "execution_count": null,
   "metadata": {},
   "outputs": [],
   "source": [
    "metrics = list()\n",
    "names = list()\n",
    "metrics.append(pickle.load(open('metrics/KnnRegressorImpMeanRemMetrics.pkl','rb')))\n",
    "names.append('KnnRegressorImpMeanRemMetrics')\n",
    "metrics.append(pickle.load(open('metrics/KnnRegressorFSImpMeanRemMetrics.pkl','rb')))\n",
    "names.append('KnnRegressorFSImpMeanRemMetrics')\n",
    "metrics.append(pickle.load(open('metrics/KnnRegressorImpKnnRemMetrics.pkl','rb')))\n",
    "names.append('KnnRegressorImpKnnRemMetrics')\n",
    "metrics.append(pickle.load(open('metrics/KnnRegressorFSImpKnnRemMetrics.pkl','rb')))\n",
    "names.append('KnnRegressorFSImpKnnRemMetrics')\n",
    "metrics.append(pickle.load(open('metrics/DecisionTreeRegressorImpMeanRemMetrics.pkl','rb')))\n",
    "names.append('DecisionTreeRegressorImpMeanRemMetrics')\n",
    "metrics.append(pickle.load(open('metrics/DecisionTreeRegressorFSImpMeanRemMetrics.pkl','rb')))\n",
    "names.append('DecisionTreeRegressorFSImpMeanRemMetrics')\n",
    "metrics.append(pickle.load(open('metrics/DecisionTreeRegressorImpKnnRemMetrics.pkl','rb')))\n",
    "names.append('DecisionTreeRegressorImpKnnRemMetrics')\n",
    "metrics.append(pickle.load(open('metrics/DecisionTreeRegressorFSImpKnnRemMetrics.pkl','rb')))\n",
    "names.append('DecisionTreeRegressorFSImpKnnRemMetrics')\n",
    "metrics.append(pickle.load(open('metrics/RandomForestRegressorImpMeanRemMetrics.pkl','rb')))\n",
    "names.append('RandomForestRegressorImpMeanRemMetrics')\n",
    "metrics.append(pickle.load(open('metrics/RandomForestRegressorFSImpMeanRemMetrics.pkl','rb')))\n",
    "names.append('RandomForestRegressorFSImpMeanRemMetrics')\n",
    "metrics.append(pickle.load(open('metrics/RandomForestRegressorImpKnnRemMetrics.pkl','rb')))\n",
    "names.append('RandomForestRegressorImpKnnRemMetrics')\n",
    "metrics.append(pickle.load(open('metrics/RandomForestRegressorFSImpKnnRemMetrics.pkl','rb')))\n",
    "names.append('RandomForestRegressorFSImpKnnRemMetrics')\n",
    "metrics.append(pickle.load(open('metrics/GradientBoostingRegressorImpMeanRemMetrics.pkl','rb')))\n",
    "names.append('GradientBoostingRegressorImpMeanRemMetrics')\n",
    "metrics.append(pickle.load(open('metrics/GradientBoostingRegressorFSImpMeanRemMetrics.pkl','rb')))\n",
    "names.append('GradientBoostingRegressorFSImpMeanRemMetrics')\n",
    "metrics.append(pickle.load(open('metrics/GradientBoostingRegressorImpKnnRemMetrics.pkl','rb')))\n",
    "names.append('GradientBoostingRegressorImpKnnRemMetrics')\n",
    "metrics.append(pickle.load(open('metrics/GradientBoostingRegressorFSImpKnnRemMetrics.pkl','rb')))\n",
    "names.append('GradientBoostingRegressorFSImpKnnRemMetrics')\n",
    "metrics.append(pickle.load(open('metrics/XGBoostingRegressorImpMeanRemMetrics.pkl','rb')))\n",
    "names.append('XGBoostingRegressorImpMeanRemMetrics')\n",
    "metrics.append(pickle.load(open('metrics/XGBoostingRegressorFSImpMeanRemMetrics.pkl','rb')))\n",
    "names.append('XGBoostingRegressorFSImpMeanRemMetrics')\n",
    "metrics.append(pickle.load(open('metrics/XGBoostingRegressorImpKnnRemMetrics.pkl','rb')))\n",
    "names.append('XGBoostingRegressorImpKnnRemMetrics')\n",
    "metrics.append(pickle.load(open('metrics/XGBoostingRegressorFSImpKnnRemMetrics.pkl','rb')))\n",
    "names.append('XGBoostingRegressorFSImpKnnRemMetrics')"
   ]
  },
  {
   "cell_type": "code",
   "execution_count": null,
   "metadata": {},
   "outputs": [],
   "source": [
    "# Diagrama de barras para observar el modelo más importante de acuerdo al R^2 de prueba\n",
    "\n",
    "fig, ax = plt.subplots()\n",
    "fig.set_size_inches((20,20))\n",
    "ax.bar(names, [i['Test R^2'] for i in metrics])\n",
    "ax.set(title='R^2 de prueba',xlabel='Modelos',ylabel='Score')\n",
    "plt.xticks(rotation='vertical')\n",
    "plt.show()"
   ]
  },
  {
   "cell_type": "code",
   "execution_count": null,
   "metadata": {},
   "outputs": [],
   "source": [
    "# Diagrama de barras para observar el modelo más importante de acuerdo al R^2 ajustado de prueba\n",
    "\n",
    "fig, ax = plt.subplots()\n",
    "fig.set_size_inches((20,20))\n",
    "ax.bar(names, [i['Test Adj R^2'] for i in metrics])\n",
    "ax.set(title='R^2 ajustado de prueba',xlabel='Modelos',ylabel='Score')\n",
    "plt.xticks(rotation='vertical')\n",
    "plt.show()"
   ]
  },
  {
   "cell_type": "code",
   "execution_count": null,
   "metadata": {},
   "outputs": [],
   "source": [
    "# Diagrama de barras para observar el modelo más importante de acuerdo al MAE de prueba\n",
    "\n",
    "fig, ax = plt.subplots()\n",
    "fig.set_size_inches((20,20))\n",
    "ax.bar(names, [i['Test MAE'] for i in metrics])\n",
    "ax.set(title='MAE de prueba',xlabel='Modelos',ylabel='Score')\n",
    "plt.xticks(rotation='vertical')\n",
    "plt.show()"
   ]
  },
  {
   "cell_type": "code",
   "execution_count": null,
   "metadata": {},
   "outputs": [],
   "source": [
    "# Diagrama de barras para observar el modelo más importante de acuerdo al MAPE de prueba\n",
    "\n",
    "fig, ax = plt.subplots()\n",
    "fig.set_size_inches((20,20))\n",
    "ax.bar(names, [i['Test MAPE'] for i in metrics])\n",
    "ax.set(title='MAPE de prueba',xlabel='Modelos',ylabel='Score')\n",
    "plt.xticks(rotation='vertical')\n",
    "plt.show()"
   ]
  },
  {
   "cell_type": "code",
   "execution_count": null,
   "metadata": {},
   "outputs": [],
   "source": [
    "# Diagrama de barras para observar el modelo más importante de acuerdo al RMSE de prueba\n",
    "\n",
    "fig, ax = plt.subplots()\n",
    "fig.set_size_inches((20,20))\n",
    "ax.bar(names, [i['Test RMSE'] for i in metrics])\n",
    "ax.set(title='RMSE de prueba',xlabel='Modelos',ylabel='Score')\n",
    "plt.xticks(rotation='vertical')\n",
    "plt.show()"
   ]
  },
  {
   "cell_type": "code",
   "execution_count": null,
   "metadata": {},
   "outputs": [],
   "source": [
    "# Se organizan los modelos de acuerdo a su R^2 de prueba\n",
    "\n",
    "models = [(names[i],metrics[i]) for i in range(len(names))]\n",
    "models = sorted(models,key=lambda x:x[1]['Test R^2'],reverse=True)\n",
    "ranking = pd.DataFrame(columns=['Model','Test R^2'])\n",
    "for model in models:\n",
    "    ranking = ranking._append({'Model':model[0],'Test R^2':model[1]['Test R^2']},ignore_index=True)\n",
    "ranking"
   ]
  },
  {
   "cell_type": "code",
   "execution_count": null,
   "metadata": {},
   "outputs": [],
   "source": [
    "# Se organizan los modelos de acuerdo a su R^2 ajustado de prueba\n",
    "\n",
    "models = [(names[i],metrics[i]) for i in range(len(names))]\n",
    "models = sorted(models,key=lambda x:x[1]['Test Adj R^2'],reverse=True)\n",
    "ranking = pd.DataFrame(columns=['Model','Test Adj R^2'])\n",
    "for model in models:\n",
    "    ranking = ranking._append({'Model':model[0],'Test Adj R^2':model[1]['Test Adj R^2']},ignore_index=True)\n",
    "ranking"
   ]
  },
  {
   "cell_type": "code",
   "execution_count": null,
   "metadata": {},
   "outputs": [],
   "source": [
    "# Se organizan los modelos de acuerdo a su RMSE de prueba\n",
    "\n",
    "models = [(names[i],metrics[i]) for i in range(len(names))]\n",
    "models = sorted(models,key=lambda x:x[1]['Test RMSE'],reverse=False)\n",
    "ranking = pd.DataFrame(columns=['Model','Test RMSE'])\n",
    "for model in models:\n",
    "    ranking = ranking._append({'Model':model[0],'Test RMSE':model[1]['Test RMSE']},ignore_index=True)\n",
    "ranking"
   ]
  },
  {
   "cell_type": "code",
   "execution_count": null,
   "metadata": {},
   "outputs": [],
   "source": [
    "# Se organizan los modelos de acuerdo a su MAE de prueba\n",
    "\n",
    "models = [(names[i],metrics[i]) for i in range(len(names))]\n",
    "models = sorted(models,key=lambda x:x[1]['Test MAE'],reverse=False)\n",
    "ranking = pd.DataFrame(columns=['Model','Test MAE'])\n",
    "for model in models:\n",
    "    ranking = ranking._append({'Model':model[0],'Test MAE':model[1]['Test MAE']},ignore_index=True)\n",
    "ranking"
   ]
  },
  {
   "cell_type": "code",
   "execution_count": null,
   "metadata": {},
   "outputs": [],
   "source": [
    "# Se organizan los modelos de acuerdo a su MAPE de prueba\n",
    "\n",
    "models = [(names[i],metrics[i]) for i in range(len(names))]\n",
    "models = sorted(models,key=lambda x:x[1]['Test MAPE'],reverse=False)\n",
    "ranking = pd.DataFrame(columns=['Model','Test MAPE'])\n",
    "for model in models:\n",
    "    ranking = ranking._append({'Model':model[0],'Test MAPE':model[1]['Test MAPE']},ignore_index=True)\n",
    "ranking"
   ]
  },
  {
   "cell_type": "code",
   "execution_count": null,
   "metadata": {},
   "outputs": [],
   "source": []
  }
 ],
 "metadata": {
  "kernelspec": {
   "display_name": "base",
   "language": "python",
   "name": "python3"
  },
  "language_info": {
   "codemirror_mode": {
    "name": "ipython",
    "version": 3
   },
   "file_extension": ".py",
   "mimetype": "text/x-python",
   "name": "python",
   "nbconvert_exporter": "python",
   "pygments_lexer": "ipython3",
   "version": "3.11.7"
  },
  "orig_nbformat": 4
 },
 "nbformat": 4,
 "nbformat_minor": 2
}
